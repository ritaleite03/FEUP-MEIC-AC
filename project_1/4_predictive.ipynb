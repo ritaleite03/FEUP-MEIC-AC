{
 "cells": [
  {
   "cell_type": "markdown",
   "metadata": {},
   "source": [
    "# Predictive Model\n",
    "\n",
    "The metrics that will be used to evaluate this stage are:\n",
    "\n",
    "- **Diversity** of tasks (use of classification and regression) and of algorithms, this is, tested more than 4 with significantly different language bias OR with a significant number of variants.\n",
    "\n",
    "- **Parameter Tuning**, with a systematic approach.\n",
    "\n",
    "- **Understanding Algorithm Behavior**, solid (even if not deep) understanding of the behavior of most algorithms used OR <3 algorithms, also understanding the effect of parameters.\n",
    "\n",
    "- Training and testing on properly separated data, with multiple splits.\n",
    "\n",
    "- **Performance Estimation**, additional factors correctly taken into account (e.g. time), focus on performance measures aligned with DM goals and data characteristics, advanced performance measures (e.g. AUC), adequate baseline, correct analysis of values ​​for comparison, including tests of statistical significance, correct estimate of overfitting.\n",
    "\n",
    "- **Model Improvement**, development guided by performance improvement goals, even if pedagogical goals have not been ignored.\n",
    "\n",
    "- **Feature Importance**, correctly interpreted, related to the application domain.\n",
    "\n",
    "- Analysis of \"white box\" models, correctly interpreted, related to the application domain"
   ]
  },
  {
   "cell_type": "code",
   "execution_count": null,
   "metadata": {},
   "outputs": [],
   "source": [
    "import pandas as pd\n",
    "import numpy as np\n",
    "import matplotlib.pyplot as plt\n",
    "import warnings\n",
    "warnings.filterwarnings('ignore')\n",
    "\n",
    "from sklearn.tree import DecisionTreeClassifier, plot_tree\n",
    "from sklearn.svm import SVC\n",
    "from sklearn.ensemble import GradientBoostingClassifier\n",
    "from sklearn.neighbors import KNeighborsClassifier\n",
    "from sklearn.calibration import LabelEncoder\n",
    "from sklearn.linear_model import LinearRegression\n",
    "from sklearn.metrics import roc_auc_score, f1_score, precision_score, recall_score, accuracy_score, classification_report\n",
    "import time"
   ]
  },
  {
   "cell_type": "code",
   "execution_count": null,
   "metadata": {},
   "outputs": [],
   "source": [
    "teams = pd.read_csv(\"data_prepared/teams.csv\")\n",
    "teams = teams.drop(columns=['teams_firstRound', 'teams_semis', 'teams_finals'])\n",
    "teams['teams_playoff'] = teams['teams_playoff'].map({'Y': 1, 'N': 0})\n",
    "teams['teams_confID'] = teams['teams_confID'].map({'EA': 0, 'WE': 1})\n",
    "\n",
    "label_encoder = LabelEncoder()\n",
    "\n",
    "def encode_categorical_columns(df):\n",
    "    for col in df.select_dtypes(include=['object']).columns:\n",
    "        if col == 'teams_playoff' or col == 'teams_confID':\n",
    "            continue\n",
    "        else:\n",
    "            df[col] = label_encoder.fit_transform(df[col])\n",
    "    return df\n",
    "\n",
    "encode_categorical_columns(teams)\n",
    "teams = teams.fillna(0)"
   ]
  },
  {
   "cell_type": "code",
   "execution_count": null,
   "metadata": {},
   "outputs": [],
   "source": [
    "def run_model(model, data, year, number, run_by_conference=False):\n",
    "    train = data[data['teams_year'] < year]\n",
    "    test = data[data['teams_year'] == year]\n",
    "\n",
    "    train.drop(\"teams_year\", axis=1, inplace=True)\n",
    "    test.drop(\"teams_year\", axis=1, inplace=True)\n",
    "\n",
    "    X_train = train.drop(\"teams_playoff\", axis=1)\n",
    "    Y_train = train[\"teams_playoff\"]\n",
    "\n",
    "    X_test = test.drop(\"teams_playoff\", axis=1)\n",
    "    Y_test = test[\"teams_playoff\"]\n",
    "\n",
    "    start_timer = time.time()\n",
    "\n",
    "    model.fit(X_train, Y_train)\n",
    "    \n",
    "    if isinstance(model, LinearRegression):\n",
    "        y_pred_proba = model.predict(X_test)\n",
    "    else:\n",
    "        y_pred_proba = model.predict_proba(X_test)[:, 1]\n",
    "    y_pred = np.zeros_like(y_pred_proba) \n",
    "    top_8_indices = np.argsort(y_pred_proba)[-number:]\n",
    "    y_pred[top_8_indices] = 1\n",
    "    \n",
    "    stop_timer = time.time()\n",
    "\n",
    "    # build prediction df\n",
    "    prediction_df = pd.DataFrame()\n",
    "    prediction_df.loc[:, 'teams'] = label_encoder.inverse_transform(X_test.loc[:, 'teams_tmID'])\n",
    "    prediction_df.loc[:, 'playoff'] = Y_test.values\n",
    "    prediction_df.loc[:, 'prediction'] = y_pred\n",
    "\n",
    "    # statistics\n",
    "    time_elapsed = stop_timer - start_timer\n",
    "    precision = precision_score(Y_test, y_pred)\n",
    "    recall = recall_score(Y_test, y_pred)\n",
    "    f1 = f1_score(Y_test, y_pred)\n",
    "    accuracy = accuracy_score(Y_test, y_pred)\n",
    "    auc = roc_auc_score(Y_test, y_pred)\n",
    "\n",
    "    if not run_by_conference:\n",
    "        print(prediction_df)\n",
    "        print(f\"Time: {time_elapsed:.3f}    Accuracy: {accuracy:.2f}    Precision: {precision:.2f}    Recall: {recall:.2f}    F1: {f1:.2f}    AUC: {auc:.2f}\")\n",
    "        print()\n",
    "\n",
    "    if not run_by_conference and isinstance(model, (DecisionTreeClassifier, GradientBoostingClassifier)):\n",
    "        feature_importances_df = pd.DataFrame(model.feature_importances_, index=X_train.columns, columns=[\"Importance\"])\n",
    "        feature_importances_df.sort_values(by='Importance', ascending=False, inplace=True)\n",
    "        feature_importances_df.plot(kind='bar', figsize=(10, 4))\n",
    "\n",
    "        if isinstance(model, DecisionTreeClassifier):\n",
    "            plt.figure(figsize=(8, 8))\n",
    "            plot_tree(model, filled=True, feature_names=X_test.columns.to_list(), rounded=True)\n",
    "            plt.show()\n",
    "\n",
    "    if run_by_conference:\n",
    "        return prediction_df, {\n",
    "            \"time\": time_elapsed,\n",
    "            \"precision\": precision,\n",
    "            \"recall\": recall,\n",
    "            \"f1\": f1,\n",
    "            \"accuracy\": accuracy,\n",
    "            \"auc\": auc\n",
    "        }"
   ]
  },
  {
   "cell_type": "code",
   "execution_count": null,
   "metadata": {},
   "outputs": [],
   "source": [
    "def run_model_by_conferences(model, year):\n",
    "    east_pred_df, east_statistics = run_model(model, teams[teams['teams_confID'] == 0], year, 4, True)\n",
    "    weast_pred_df, weast_statistics = run_model(model, teams[teams['teams_confID'] == 1], year, 4, True)\n",
    "\n",
    "    statistics = {}\n",
    "\n",
    "    for k in east_statistics.keys():\n",
    "        statistics[k] = (east_statistics[k] + weast_statistics[k]) / 2\n",
    "    \n",
    "    print(pd.concat([east_pred_df, weast_pred_df]))\n",
    "    print(f\"Time: {statistics['time']:.3f}    Accuracy: {statistics['accuracy']:.2f}    Precision: {statistics['precision']:.2f}    Recall: {statistics['recall']:.2f}    F1: {statistics['f1']:.2f}    AUC: {statistics['auc']:.2f}\")\n",
    "    print()\n",
    "\n"
   ]
  },
  {
   "cell_type": "markdown",
   "metadata": {},
   "source": [
    "## 1 - Algorithms"
   ]
  },
  {
   "cell_type": "markdown",
   "metadata": {},
   "source": [
    "### 1.1 - Decision Tree"
   ]
  },
  {
   "cell_type": "code",
   "execution_count": null,
   "metadata": {},
   "outputs": [],
   "source": [
    "run_model_by_conferences(DecisionTreeClassifier(random_state=42), 10)\n",
    "run_model(DecisionTreeClassifier(random_state=42), teams, 10, 8)"
   ]
  },
  {
   "cell_type": "markdown",
   "metadata": {},
   "source": [
    "1.2 - Support Vector Machine"
   ]
  },
  {
   "cell_type": "code",
   "execution_count": null,
   "metadata": {},
   "outputs": [],
   "source": [
    "run_model_by_conferences(SVC(probability=True, random_state=42), 10)\n",
    "run_model(SVC(probability=True, random_state=42), teams, 10, 8)\n"
   ]
  },
  {
   "cell_type": "markdown",
   "metadata": {},
   "source": [
    "### 1.3 - Grandient Boosting"
   ]
  },
  {
   "cell_type": "code",
   "execution_count": null,
   "metadata": {},
   "outputs": [],
   "source": [
    "run_model_by_conferences(GradientBoostingClassifier(random_state=42), 10)\n",
    "run_model(GradientBoostingClassifier(random_state=42), teams, 10, 8)\n"
   ]
  },
  {
   "cell_type": "markdown",
   "metadata": {},
   "source": [
    "### 1.4 - Linear Regression"
   ]
  },
  {
   "cell_type": "code",
   "execution_count": null,
   "metadata": {},
   "outputs": [],
   "source": [
    "run_model_by_conferences(LinearRegression(), 10)\n",
    "run_model(LinearRegression(), teams, 10, 8)"
   ]
  }
 ],
 "metadata": {
  "kernelspec": {
   "display_name": "base",
   "language": "python",
   "name": "python3"
  },
  "language_info": {
   "codemirror_mode": {
    "name": "ipython",
    "version": 3
   },
   "file_extension": ".py",
   "mimetype": "text/x-python",
   "name": "python",
   "nbconvert_exporter": "python",
   "pygments_lexer": "ipython3",
   "version": "3.11.7"
  }
 },
 "nbformat": 4,
 "nbformat_minor": 2
}

{
 "cells": [
  {
   "cell_type": "markdown",
   "metadata": {},
   "source": [
    "# Predictive Model\n",
    "\n",
    "The metrics that will be used to evaluate this stage are:\n",
    "\n",
    "- **Diversity** of tasks (use of classification and regression) and of algorithms, this is, tested more than 4 with significantly different language bias OR with a significant number of variants.\n",
    "\n",
    "- **Parameter Tuning**, with a systematic approach.\n",
    "\n",
    "- **Understanding Algorithm Behavior**, solid (even if not deep) understanding of the behavior of most algorithms used OR <3 algorithms, also understanding the effect of parameters.\n",
    "\n",
    "- Training and testing on properly separated data, with multiple splits.\n",
    "\n",
    "- **Performance Estimation**, additional factors correctly taken into account (e.g. time), focus on performance measures aligned with DM goals and data characteristics, advanced performance measures (e.g. AUC), adequate baseline, correct analysis of values ​​for comparison, including tests of statistical significance, correct estimate of overfitting.\n",
    "\n",
    "- **Model Improvement**, development guided by performance improvement goals, even if pedagogical goals have not been ignored.\n",
    "\n",
    "- **Feature Importance**, correctly interpreted, related to the application domain.\n",
    "\n",
    "- Analysis of \"white box\" models, correctly interpreted, related to the application domain"
   ]
  },
  {
   "cell_type": "code",
   "execution_count": null,
   "metadata": {},
   "outputs": [],
   "source": [
    "import pandas as pd\n",
    "import numpy as np\n",
    "import matplotlib.pyplot as plt\n",
    "import warnings\n",
    "warnings.filterwarnings('ignore')\n",
    "\n",
    "from sklearn.discriminant_analysis import StandardScaler\n",
    "from sklearn.tree import DecisionTreeClassifier, plot_tree\n",
    "from sklearn.neighbors import KNeighborsClassifier\n",
    "from sklearn.svm import SVC\n",
    "from sklearn.naive_bayes import GaussianNB\n",
    "from sklearn.ensemble import GradientBoostingClassifier\n",
    "from sklearn.calibration import LabelEncoder\n",
    "from sklearn.linear_model import LinearRegression\n",
    "from sklearn.ensemble import RandomForestRegressor\n",
    "from sklearn.metrics import roc_auc_score, f1_score, precision_score, recall_score, accuracy_score\n",
    "import time\n",
    "\n",
    "teams = pd.read_csv(\"data_prepared/teams.csv\")\n",
    "label_encoder = LabelEncoder()\n",
    "\n",
    "numerical_features = teams.select_dtypes(include=['float', 'int']).columns\n",
    "numerical_features = numerical_features.drop('year')\n",
    "\n",
    "scaler = StandardScaler()\n",
    "teams[numerical_features] = scaler.fit_transform(teams[numerical_features])\n",
    "\n",
    "teams['playoff'] = teams['playoff'].map({'Y': 1, 'N': 0})\n",
    "teams['confID'] = teams['confID'].map({'EA': 0, 'WE': 1})\n",
    "\n",
    "def encode_categorical_columns(df):\n",
    "    for col in df.select_dtypes(include=['object']).columns:\n",
    "        if col == 'playoff' or col == 'confID': continue\n",
    "        else: df[col] = label_encoder.fit_transform(df[col])\n",
    "    return df\n",
    "\n",
    "encode_categorical_columns(teams)\n",
    "teams = teams.fillna(0)"
   ]
  },
  {
   "cell_type": "code",
   "execution_count": null,
   "metadata": {},
   "outputs": [],
   "source": [
    "def normalize_predictions(predictions):\n",
    "        return (predictions - np.min(predictions)) / (np.max(predictions) - np.min(predictions))\n",
    "\n",
    "def get_error(pred_proba, label_results):\n",
    "    errors = []\n",
    "    for pred, label in zip(pred_proba, label_results):\n",
    "        errors.append(abs(pred - label))\n",
    "    return sum(errors)\n",
    "\n",
    "def run_model(model, data, year, number, run_by_conference=False):\n",
    "    train = data[data['year'] < year]\n",
    "    test = data[data['year'] == year]\n",
    "\n",
    "    train.drop(\"year\", axis=1, inplace=True)\n",
    "    test.drop(\"year\", axis=1, inplace=True)\n",
    "\n",
    "    X_train = train.drop(\"playoff\", axis=1)\n",
    "    Y_train = train[\"playoff\"]\n",
    "\n",
    "    X_test = test.drop(\"playoff\", axis=1)\n",
    "    Y_test = test[\"playoff\"]\n",
    "\n",
    "    start_timer = time.time()\n",
    "\n",
    "    model.fit(X_train, Y_train)\n",
    "    \n",
    "    if isinstance(model, (LinearRegression, RandomForestRegressor)):\n",
    "        y_pred_proba = model.predict(X_test)\n",
    "        y_pred_proba = normalize_predictions(y_pred_proba)\n",
    "    else:\n",
    "        y_pred_proba = model.predict_proba(X_test)[:, 1]\n",
    "\n",
    "    errors = get_error(y_pred_proba, Y_test)\n",
    "\n",
    "    y_pred = np.zeros_like(y_pred_proba) \n",
    "    top_indices = np.argsort(y_pred_proba)[-number:]\n",
    "    y_pred[top_indices] = 1\n",
    "    \n",
    "    stop_timer = time.time()\n",
    "\n",
    "    # build prediction df\n",
    "    prediction_df = pd.DataFrame()\n",
    "    prediction_df.loc[:, 'teams'] = label_encoder.inverse_transform(X_test.loc[:, 'tmID'])\n",
    "    prediction_df.loc[:, 'playoff'] = Y_test.values\n",
    "    prediction_df.loc[:, 'prediction'] = y_pred\n",
    "\n",
    "    # statistics\n",
    "    time_elapsed = stop_timer - start_timer\n",
    "    precision = precision_score(Y_test, y_pred)\n",
    "    recall = recall_score(Y_test, y_pred)\n",
    "    f1 = f1_score(Y_test, y_pred)\n",
    "    accuracy = accuracy_score(Y_test, y_pred)\n",
    "    auc = roc_auc_score(Y_test, y_pred)\n",
    "\n",
    "    if not run_by_conference and isinstance(model, (DecisionTreeClassifier, GradientBoostingClassifier)):\n",
    "        feature_importances_df = pd.DataFrame(model.feature_importances_, index=X_train.columns, columns=[\"Importance\"])\n",
    "        feature_importances_df.sort_values(by='Importance', ascending=False, inplace=True)\n",
    "        feature_importances_df.plot(kind='bar', figsize=(10, 4))\n",
    "\n",
    "        if isinstance(model, DecisionTreeClassifier):\n",
    "            plt.figure(figsize=(8, 8))\n",
    "            plot_tree(model, filled=True, feature_names=X_test.columns.to_list(), rounded=True)\n",
    "            plt.show()\n",
    "\n",
    "    if run_by_conference:\n",
    "        return prediction_df, {\n",
    "            \"time\": time_elapsed,\n",
    "            \"precision\": precision,\n",
    "            \"recall\": recall,\n",
    "            \"f1\": f1,\n",
    "            \"accuracy\": accuracy,\n",
    "            \"auc\": auc,\n",
    "            \"error\": errors\n",
    "        }"
   ]
  },
  {
   "cell_type": "code",
   "execution_count": null,
   "metadata": {},
   "outputs": [],
   "source": [
    "results_accuracy = {}\n",
    "results_precision = {}\n",
    "\n",
    "def run_model_by_conferences(model, year):\n",
    "    \n",
    "    east_pred_df, east_statistics = run_model(model, teams[teams['confID'] == 0], year, 4, True)\n",
    "    weast_pred_df, weast_statistics = run_model(model, teams[teams['confID'] == 1], year, 4, True)\n",
    "\n",
    "    statistics = {}\n",
    "\n",
    "    for k in east_statistics.keys():\n",
    "        statistics[k] = (east_statistics[k] + weast_statistics[k]) / 2\n",
    "    \n",
    "    print(pd.concat([east_pred_df, weast_pred_df]))\n",
    "    print(f\"Time: {statistics['time']:.3f}    Error: {statistics['error']:.2f}    Accuracy: {statistics['accuracy']:.2f}    Precision: {statistics['precision']:.2f}    Recall: {statistics['recall']:.2f}    F1: {statistics['f1']:.2f}    AUC: {statistics['auc']:.2f}\")\n",
    "    print()\n",
    "    \n",
    "    results_accuracy[str(model.__class__.__name__)] = statistics['accuracy']\n",
    "    results_precision[str(model.__class__.__name__)] = statistics['precision']"
   ]
  },
  {
   "cell_type": "markdown",
   "metadata": {},
   "source": [
    "## 1 - Algorithms"
   ]
  },
  {
   "cell_type": "markdown",
   "metadata": {},
   "source": [
    "### 1.1 - Decision Tree"
   ]
  },
  {
   "cell_type": "code",
   "execution_count": null,
   "metadata": {},
   "outputs": [],
   "source": [
    "run_model_by_conferences(DecisionTreeClassifier(random_state=42), 10)"
   ]
  },
  {
   "cell_type": "markdown",
   "metadata": {},
   "source": [
    "### 1.2 - SVC"
   ]
  },
  {
   "cell_type": "code",
   "execution_count": null,
   "metadata": {},
   "outputs": [],
   "source": [
    "run_model_by_conferences(SVC(random_state=42, kernel='linear', probability=True),10)"
   ]
  },
  {
   "cell_type": "markdown",
   "metadata": {},
   "source": [
    "### 1.3 - KNeighborsClassifier"
   ]
  },
  {
   "cell_type": "code",
   "execution_count": null,
   "metadata": {},
   "outputs": [],
   "source": [
    "# run_model_by_conferences(KNeighborsClassifier(n_neighbors=5), 10)"
   ]
  },
  {
   "cell_type": "markdown",
   "metadata": {},
   "source": [
    "### 1.4 - Naive Bayes"
   ]
  },
  {
   "cell_type": "code",
   "execution_count": null,
   "metadata": {},
   "outputs": [],
   "source": [
    "run_model_by_conferences(GaussianNB(), 10)"
   ]
  },
  {
   "cell_type": "markdown",
   "metadata": {},
   "source": [
    "### 1.5 - Random Forest"
   ]
  },
  {
   "cell_type": "code",
   "execution_count": null,
   "metadata": {},
   "outputs": [],
   "source": [
    "run_model_by_conferences(RandomForestRegressor(n_estimators=100, random_state=42), 10)"
   ]
  },
  {
   "cell_type": "markdown",
   "metadata": {},
   "source": [
    "### 1.6 - Grandient Boosting"
   ]
  },
  {
   "cell_type": "code",
   "execution_count": null,
   "metadata": {},
   "outputs": [],
   "source": [
    "run_model_by_conferences(GradientBoostingClassifier(random_state=42), 10)"
   ]
  },
  {
   "cell_type": "markdown",
   "metadata": {},
   "source": [
    "### 1.7 - Linear Regression"
   ]
  },
  {
   "cell_type": "code",
   "execution_count": null,
   "metadata": {},
   "outputs": [],
   "source": [
    "run_model_by_conferences(LinearRegression(), 10)"
   ]
  },
  {
   "cell_type": "code",
   "execution_count": null,
   "metadata": {},
   "outputs": [],
   "source": [
    "results_accuracy = dict(sorted(results_accuracy.items(), key=lambda item: item[1]))\n",
    "labels = list(results_accuracy.keys())\n",
    "values = list(results_accuracy.values())\n",
    "\n",
    "plt.figure(figsize=(6, 4))\n",
    "plt.barh(labels, values, color='skyblue', edgecolor='black')\n",
    "plt.title(\"Accuracy by Models\", fontsize=16)\n",
    "plt.xlabel(\"Accuracy\", fontsize=14)\n",
    "plt.ylabel(\"Models\", fontsize=14)\n",
    "plt.xticks(fontsize=12)\n",
    "plt.yticks(fontsize=12)\n",
    "plt.show()"
   ]
  }
 ],
 "metadata": {
  "kernelspec": {
   "display_name": "base",
   "language": "python",
   "name": "python3"
  },
  "language_info": {
   "codemirror_mode": {
    "name": "ipython",
    "version": 3
   },
   "file_extension": ".py",
   "mimetype": "text/x-python",
   "name": "python",
   "nbconvert_exporter": "python",
   "pygments_lexer": "ipython3",
   "version": "3.11.7"
  }
 },
 "nbformat": 4,
 "nbformat_minor": 2
}

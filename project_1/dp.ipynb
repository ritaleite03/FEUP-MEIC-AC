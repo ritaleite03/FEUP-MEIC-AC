{
 "cells": [
  {
   "cell_type": "markdown",
   "metadata": {},
   "source": [
    "# Data Preparation\n",
    "\n",
    "The metrics that will be used to evaluate this stage are:\n",
    "\n",
    "- **Integration**, this is, converting different data value formats AND entity matching between different sources;\n",
    "\n",
    "- **Quality**, assessment of dimensions;\n",
    "\n",
    "- **Cleaning**, systematic redundancy removal of redundant attributes, missing data, replace MVs with complex methods (e.g. regression, classification) with correct experimental setup, identify and discuss outliers and address them with complex approaches (technical or domain-dependent);\n",
    "\n",
    "- **Transformation** for algorithm compatibility, adequate complex discretization or rescaling;\n",
    "\n",
    "- **Feature Engineering and Selection** from tabular data, complex methods (e.g. aggregation) and knowledge (e.g. business concepts), and correct and combined use of filter and wrapper based methods;\n",
    "\n",
    "- **Sampling** for domain-specific purposes, focus on the appropriate subset of the population, and for development, start with a very small sample and scale up to a significant sample;\n",
    "\n",
    "- **Unbalanced** - you used advanced methods (e.g. SMOTE) correctly"
   ]
  },
  {
   "cell_type": "code",
   "execution_count": 415,
   "metadata": {},
   "outputs": [],
   "source": [
    "import pandas as pd\n",
    "\n",
    "awards_players = pd.read_csv(\"data/awards_players.csv\")\n",
    "coaches = pd.read_csv(\"data/coaches.csv\")\n",
    "players_teams = pd.read_csv(\"data/players_teams.csv\")\n",
    "players = pd.read_csv(\"data/players.csv\")\n",
    "series_post = pd.read_csv(\"data/series_post.csv\")\n",
    "teams_post = pd.read_csv(\"data/teams_post.csv\")\n",
    "teams = pd.read_csv(\"data/teams.csv\")\n",
    "\n",
    "tables = {\n",
    "    \"Awards Players\": awards_players,\n",
    "    \"Coaches\": coaches,\n",
    "    \"Players Teams\": players_teams,\n",
    "    \"Players\": players,\n",
    "    \"Series Post\": series_post,\n",
    "    \"Teams Post\": teams_post,\n",
    "    \"Teams\": teams\n",
    "}\n",
    "\n",
    "# remove columns where all the entries have the same value\n",
    "def clean_remove_columns_equal( name ):\n",
    "    \n",
    "    before = len( tables[ name ].columns )\n",
    "    nunique = tables[ name ].nunique()\n",
    "    cols_to_drop = nunique[ nunique == 1 ].index\n",
    "    tables[ name ] = tables[ name ].drop( cols_to_drop, axis = 1 )\n",
    "    \n",
    "    if( before != len( tables[ name ].columns ) ):\n",
    "        print( f\"{ name } went from { before } to { len( tables[ name ].columns ) } columns : { cols_to_drop.to_list() }\" )\n",
    "\n",
    "# remove columns where all the entries have null values\n",
    "def clean_remove_columns_na( name ):\n",
    "    \n",
    "    before_cols = tables[ name ].columns\n",
    "    tables[ name ] = tables[ name ].dropna( axis = 1, how = 'all')\n",
    "    after_cols = tables[ name ].columns\n",
    "    \n",
    "    if( len( before_cols ) != len( after_cols )):\n",
    "        print( f\"{ name } went from { len( before_cols ) } to { len( after_cols ) } columns : { list( filter( lambda x: x not in after_cols, before_cols ) ) }\" )\n",
    "\n",
    "# identify columns that have null values\n",
    "def clean_identify_columns_na( name ):\n",
    "    \n",
    "    cols_with_empty_values = tables[ name ].columns[ tables[ name ].isnull().any() ].to_list()\n",
    "    size = len( cols_with_empty_values )\n",
    "    \n",
    "    if size > 0:\n",
    "        print(f\"{ name } has { size } columns with missing data : { cols_with_empty_values }\")\n",
    "        \n",
    "# identify pairs of very correlated features\n",
    "def clean_identify_correlated_features( name ):    \n",
    "    features = []\n",
    "    data_converted = tables[ name ].copy()\n",
    "    \n",
    "    for col in data_converted.select_dtypes( include = [ 'object' ] ).columns:\n",
    "        data_converted[ col ], _ = pd.factorize( data_converted[ col ] )\n",
    "\n",
    "    matrix = data_converted.corr()\n",
    "    for i in range( len( matrix.columns ) ):\n",
    "        for j in range( i ):\n",
    "            value = matrix.iloc[ i, j ]\n",
    "            if abs( value ) > 0.95:\n",
    "                name_i = matrix.columns[ i ]\n",
    "                name_j = matrix.columns[ j ]\n",
    "                features.append( ( name_i, name_j, value ) )\n",
    "\n",
    "    return features\n",
    "        "
   ]
  },
  {
   "cell_type": "markdown",
   "metadata": {},
   "source": [
    "We need to first change the `tmID` column of all the datasets as it may not correspond to the `franchID` column of the teams dataset."
   ]
  },
  {
   "cell_type": "code",
   "execution_count": 416,
   "metadata": {},
   "outputs": [],
   "source": [
    "mapTeam = {}\n",
    "for index, row in teams[['tmID', 'franchID']].iterrows():\n",
    "    mapTeam [row['tmID']] = row['franchID']\n",
    "\n",
    "tables['Coaches']['tmID'] = tables['Coaches']['tmID'].replace(mapTeam) \n",
    "tables['Players Teams']['tmID'] = tables['Players Teams']['tmID'].replace(mapTeam) \n",
    "tables['Series Post']['tmIDWinner'] = tables['Series Post']['tmIDWinner'].replace(mapTeam) \n",
    "tables['Series Post']['tmIDLoser'] = tables['Series Post']['tmIDLoser'].replace(mapTeam) \n",
    "tables['Teams Post']['tmID'] = tables['Teams Post']['tmID'].replace(mapTeam)"
   ]
  },
  {
   "cell_type": "markdown",
   "metadata": {},
   "source": [
    "There are several attributes that are highly correlated with each other and may not be necessary in the Teams dataset. So let's make some changes:\n",
    "\n",
    "- As we had already noticed previously, `tmID` and `franchID` are always the same, except in some specific cases. They are not equal only when the name under which the team participated in the competition (`tmID`) is not the same as its current name (`franchID`), that is, it changed its name.\n",
    "\n",
    "- The `name` and `arena` attributes, which give us the full name of the team and the name of its arena, are not necessary, as `franchID` is sufficient as an identifier.\n",
    "\n",
    "- Regarding the attributes referring to performance in the season, knowing that the `GP` attribute varies between two values, 32 and 34, depending on the year. In both cases the number of games is even, with half of them played at home and the rest away. Logo:\n",
    "\n",
    "    - The `GP` attribute can be obtained by doing `won + Lost`.\n",
    "    \n",
    "    - The `homeL` attribute can be obtained by doing `GP/2 - homeW`.\n",
    "    \n",
    "    - The `awayL` attribute can be obtained by doing `lost - homeL`.\n",
    "    \n",
    "    - The `awayW` attribute can be obtained by doing `won - homeW`.\n",
    "\n",
    "- In relation to the attributes referring to offensive statistics, the same ideas can be replicated for defensive statistics.\n",
    "\n",
    "    - The attribute `o_reb` can be obtained `o_oreb + o_dreb`\n",
    "\n",
    "    - The attribute `d_reb` can be obtained `d_oreb + d_dreb`.\n",
    "\n",
    "    - The attribute `o_pts` can be obtained `2 * ( o_fgm + o_3pm ) + 3 * o_3pm + o_ftm`.\n",
    "\n",
    "    - The attribute `d_pts` can be obtained `2 * ( d_fgm + d_3pm ) + 3 * d_3pm + d_ftm`.\n",
    "\n",
    "- In relation to the attributes relating to team rebounding, the same ideas can be replicated for the opposing team's team rebounding.\n",
    "\n",
    "    - The `tmTRB` attribute can be obtained `tmORB + tmDRB`.\n",
    "\n",
    "    - The `opptmTRB` attribute can be obtained `opptmORB + opptmDRB`."
   ]
  },
  {
   "cell_type": "code",
   "execution_count": 417,
   "metadata": {},
   "outputs": [
    {
     "name": "stdout",
     "output_type": "stream",
     "text": [
      "Before Teams had 61 columns \n",
      "After Teams has 48 columns \n"
     ]
    }
   ],
   "source": [
    "print( f\"Before Teams had { len( tables[ 'Teams' ].columns ) } columns \")\n",
    "tables[ 'Teams' ] = tables[ 'Teams' ].drop( [ 'tmID', 'name', 'arena' ], axis = 1)\n",
    "tables[ 'Teams' ] = tables[ 'Teams' ].drop( [ 'GP', 'homeL', 'awayL', 'awayW' ], axis = 1)\n",
    "tables[ 'Teams' ] = tables[ 'Teams' ].drop( [ 'o_reb', 'd_reb', 'o_pts', 'd_pts' ], axis = 1)\n",
    "tables[ 'Teams' ] = tables[ 'Teams' ].drop( [ 'tmTRB', 'opptmTRB' ], axis = 1)\n",
    "print( f\"After Teams has { len( tables[ 'Teams' ].columns ) } columns \")"
   ]
  },
  {
   "cell_type": "code",
   "execution_count": 418,
   "metadata": {},
   "outputs": [
    {
     "name": "stdout",
     "output_type": "stream",
     "text": [
      "52\n",
      "Teams went from 52 to 45 columns : ['teams_lgID', 'teams_seeded', 'teams_tmORB', 'teams_tmDRB', 'teams_opptmORB', 'teams_opptmDRB', 'teams_post_lgID']\n",
      "Teams went from 45 to 44 columns : ['teams_divID']\n",
      "44\n"
     ]
    }
   ],
   "source": [
    "tables['Teams'].columns = ['teams_' + col for col in tables['Teams'].columns]\n",
    "tables['Teams Post'].columns = ['teams_post_' + col for col in tables['Teams Post'].columns]\n",
    "tables['Coaches'].columns = ['coaches_' + col for col in tables['Coaches'].columns]\n",
    "\n",
    "tables['Teams'] = pd.merge( tables['Teams'], tables['Teams Post'], left_on='teams_franchID', right_on='teams_post_tmID', how='left')\n",
    "\n",
    "# IDK - mesma equipa no mesmo ano tem treinadores diferentes\n",
    "# tables['Teams'] = pd.merge( tables['Teams'], tables['Coaches'], left_on='teams_franchID', right_on='coaches_tmID', how='left')\n",
    "\n",
    "tables['Teams'] = tables['Teams'].drop( ['teams_post_year', 'coaches_year'], axis=1, errors='ignore')\n",
    "\n",
    "print(len(tables[ 'Teams'].columns))\n",
    "clean_remove_columns_equal('Teams')\n",
    "clean_remove_columns_na('Teams')\n",
    "print(len(tables[ 'Teams'].columns))\n"
   ]
  }
 ],
 "metadata": {
  "kernelspec": {
   "display_name": "Python 3",
   "language": "python",
   "name": "python3"
  },
  "language_info": {
   "codemirror_mode": {
    "name": "ipython",
    "version": 3
   },
   "file_extension": ".py",
   "mimetype": "text/x-python",
   "name": "python",
   "nbconvert_exporter": "python",
   "pygments_lexer": "ipython3",
   "version": "3.12.6"
  }
 },
 "nbformat": 4,
 "nbformat_minor": 2
}

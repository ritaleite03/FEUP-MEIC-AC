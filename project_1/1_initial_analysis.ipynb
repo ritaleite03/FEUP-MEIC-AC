{
 "cells": [
  {
   "cell_type": "code",
   "execution_count": null,
   "metadata": {},
   "outputs": [],
   "source": [
    "import pandas as pd\n",
    "from sklearn.tree import DecisionTreeClassifier\n",
    "\n",
    "\n",
    "awards_players = pd.read_csv(\"data/awards_players.csv\")\n",
    "coaches = pd.read_csv(\"data/coaches.csv\")\n",
    "players_teams = pd.read_csv(\"data/players_teams.csv\")\n",
    "players = pd.read_csv(\"data/players.csv\")\n",
    "series_post = pd.read_csv(\"data/series_post.csv\")\n",
    "teams_post = pd.read_csv(\"data/teams_post.csv\")\n",
    "teams = pd.read_csv(\"data/teams.csv\")\n",
    "\n",
    "tables = [awards_players,coaches,players_teams,players,series_post,teams_post,teams]"
   ]
  },
  {
   "cell_type": "code",
   "execution_count": null,
   "metadata": {},
   "outputs": [],
   "source": [
    "training_data = teams[teams['year'] < 10]\n",
    "testing_data = teams[teams['year'] == 10]\n",
    "\n",
    "X_train, Y_train = training_data[[\"homeW\", \"homeL\", \"awayL\", \"awayW\"]], training_data[\"playoff\"]\n",
    "X_test, Y_test = testing_data[[\"homeW\", \"homeL\", \"awayL\", \"awayW\"]], testing_data[\"playoff\"]"
   ]
  },
  {
   "cell_type": "code",
   "execution_count": null,
   "metadata": {},
   "outputs": [],
   "source": [
    "decision_tree = DecisionTreeClassifier()\n",
    "\n",
    "decision_tree.fit(X_train, Y_train)\n",
    "print(decision_tree.score(X_test, Y_test))\n",
    "\n",
    "feat_importances = pd.DataFrame(decision_tree.feature_importances_, index=[\"homeW\", \"homeL\", \"awayL\", \"awayW\"], columns=[\"Importance\"])\n",
    "feat_importances.sort_values(by='Importance', ascending=False, inplace=True)\n",
    "feat_importances.plot(kind='bar', figsize=(12, 12))"
   ]
  }
 ],
 "metadata": {
  "kernelspec": {
   "display_name": "base",
   "language": "python",
   "name": "python3"
  },
  "language_info": {
   "codemirror_mode": {
    "name": "ipython",
    "version": 3
   },
   "file_extension": ".py",
   "mimetype": "text/x-python",
   "name": "python",
   "nbconvert_exporter": "python",
   "pygments_lexer": "ipython3",
   "version": "3.11.7"
  }
 },
 "nbformat": 4,
 "nbformat_minor": 2
}

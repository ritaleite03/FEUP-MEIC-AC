{
 "cells": [
  {
   "cell_type": "markdown",
   "metadata": {},
   "source": [
    "# Data Preparation\n",
    "\n",
    "The metrics that will be used to evaluate this stage are:\n",
    "\n",
    "\n",
    "- **Quality**, assessment of dimensions;\n",
    "\n",
    "- **Feature Engineering and Selection** from tabular data, complex methods (e.g. aggregation) and knowledge (e.g. business concepts), and correct and combined use of filter and wrapper based methods;\n",
    "\n",
    "- **Sampling** for domain-specific purposes, focus on the appropriate subset of the population, and for development, start with a very small sample and scale up to a significant sample;\n",
    "\n",
    "- **Unbalanced** - you used advanced methods (e.g. SMOTE) correctly"
   ]
  },
  {
   "cell_type": "markdown",
   "metadata": {},
   "source": [
    "## 0 - Loading"
   ]
  },
  {
   "cell_type": "code",
   "execution_count": 15,
   "metadata": {},
   "outputs": [],
   "source": [
    "import pandas as pd\n",
    "import os\n",
    "\n",
    "awards_players = pd.read_csv('data/awards_players.csv')\n",
    "coaches = pd.read_csv('data/coaches.csv')\n",
    "players_teams = pd.read_csv('data/players_teams.csv')\n",
    "players = pd.read_csv('data/players.csv')\n",
    "series_post = pd.read_csv('data/series_post.csv')\n",
    "teams_post = pd.read_csv('data/teams_post.csv')\n",
    "teams = pd.read_csv('data/teams.csv')\n",
    "\n",
    "tables = {\n",
    "    'awards_players': awards_players,\n",
    "    'coaches': coaches,\n",
    "    'players_teams': players_teams,\n",
    "    'players': players,\n",
    "    'series_post': series_post,\n",
    "    'teams_post': teams_post,\n",
    "    'teams': teams\n",
    "}"
   ]
  },
  {
   "cell_type": "markdown",
   "metadata": {},
   "source": [
    "## 1 - Cleaning"
   ]
  },
  {
   "cell_type": "code",
   "execution_count": 16,
   "metadata": {},
   "outputs": [],
   "source": [
    "# change tmID value to the franchID value\n",
    "mapTeam = {}\n",
    "for index, row in teams[['tmID', 'franchID']].iterrows():\n",
    "    mapTeam [row['tmID']] = row['franchID']\n",
    "\n",
    "tables['teams']['tmID'] = tables['teams']['tmID'].replace(mapTeam) \n",
    "tables['coaches']['tmID'] = tables['coaches']['tmID'].replace(mapTeam) \n",
    "tables['players_teams']['tmID'] = tables['players_teams']['tmID'].replace(mapTeam) \n",
    "tables['series_post']['tmIDWinner'] = tables['series_post']['tmIDWinner'].replace(mapTeam) \n",
    "tables['series_post']['tmIDLoser'] = tables['series_post']['tmIDLoser'].replace(mapTeam) \n",
    "tables['teams_post']['tmID'] = tables['teams_post']['tmID'].replace(mapTeam)\n",
    "\n",
    "for name in tables.keys():\n",
    "    # remove columns with missing values\n",
    "    tables[name] = tables[name].dropna(axis=1, how='all')\n",
    "    # remove columns with one unique value\n",
    "    nunique = tables[name].nunique()\n",
    "    tables[name] = tables[name].drop(nunique[nunique == 1].index, axis=1)\n",
    "\n",
    "tables['awards_players'].drop(['award'], axis=1)\n",
    "tables['coaches'] = tables['coaches'].drop(columns=['stint'])\n",
    "tables['players'] = tables['players'].drop(['college', 'collegeOther', 'birthDate', 'deathDate', 'height', 'weight'], axis=1)\n",
    "tables['players_teams'] = tables['players_teams'].drop(columns=['stint'])\n",
    "tables['players_teams'] = tables['players_teams'][tables['players_teams']['minutes'] != 0]\n",
    "tables['teams'] = tables['teams'].drop(['franchID', 'firstRound', 'semis', 'finals', 'attend', 'name', 'arena'], axis=1)"
   ]
  },
  {
   "cell_type": "markdown",
   "metadata": {},
   "source": [
    "## 3 - Integration"
   ]
  },
  {
   "cell_type": "code",
   "execution_count": 17,
   "metadata": {},
   "outputs": [],
   "source": [
    "# join players.csv with players_teams.csv\n",
    "tables['players'].rename(columns={'bioID': 'playerID'}, inplace=True)\n",
    "tables['players_teams'] = pd.merge( tables['players_teams'], tables['players'], on='playerID', how='left')\n",
    "tables.pop('players')\n",
    "\n",
    "# join awards_players.csv with players_teams.csv and coaches.csv\n",
    "merged_players_awards = pd.merge(tables['awards_players'], tables['players_teams'], on=['playerID', 'year'], how='inner')\n",
    "awards_count = merged_players_awards.groupby(['playerID', 'year']).size().reset_index(name='awards')\n",
    "tables['players_teams'] = pd.merge(tables['players_teams'], awards_count[['playerID', 'year', 'awards']], on=['playerID', 'year'], how='left')\n",
    "tables['players_teams']['awards'] = tables['players_teams']['awards'].fillna(0).astype(int)\n",
    "merged_coaches_awards = pd.merge(tables['awards_players'], tables['coaches'], left_on=['playerID', 'year'], right_on=['coachID', 'year'], how='inner')\n",
    "awards_count = merged_coaches_awards.groupby(['coachID', 'year']).size().reset_index(name='awards')\n",
    "tables['coaches'] = pd.merge(tables['coaches'], awards_count[['coachID', 'year', 'awards']], on=['coachID', 'year'], how='left')\n",
    "tables['coaches']['awards'] = tables['coaches']['awards'].fillna(0).astype(int)\n",
    "tables.pop('awards_players')\n",
    "\n",
    "# join teams_post.csv with teams.csv\n",
    "tables['teams_post'].rename(columns={'W': 'wonPost', 'L': 'lostPost'}, inplace=True)\n",
    "tables['teams'] = pd.merge(tables['teams'], tables['teams_post'], on=['tmID', 'year'], how='left')\n",
    "tables['teams']['wonPost'] = tables['teams']['wonPost'].fillna(0).astype(int)\n",
    "tables['teams']['lostPost'] = tables['teams']['lostPost'].fillna(0).astype(int)\n",
    "tables.pop('teams_post')\n",
    "\n",
    "# join awards column of players_teams.csv and coaches.csv with teams.csv\n",
    "team_players_count = tables['players_teams'].groupby(['tmID', 'year'])['awards'].sum().reset_index()\n",
    "team_players_count = team_players_count.rename(columns={'awards': 'awards_players'})\n",
    "tables['teams'] = tables['teams'].merge(team_players_count, on=['year','tmID'], how='left')\n",
    "tables['teams']['awards_players'] = tables['teams']['awards_players'].fillna(0).astype(int)\n",
    "team_coaches_count = tables['coaches'].groupby(['tmID', 'year'])['awards'].sum().reset_index()\n",
    "team_coaches_count = team_coaches_count.rename(columns={'awards': 'awards_coaches'})\n",
    "tables['teams'] = tables['teams'].merge(team_coaches_count, on=['tmID', 'year'], how='left')\n",
    "tables['teams']['awards_coaches'] = tables['teams']['awards_coaches'].fillna(0).astype(int)"
   ]
  },
  {
   "cell_type": "markdown",
   "metadata": {},
   "source": [
    "## 4 - Feature Engineering"
   ]
  },
  {
   "cell_type": "code",
   "execution_count": 18,
   "metadata": {},
   "outputs": [],
   "source": [
    "teams[\"perW\"] = teams[\"won\"] / teams[\"GP\"] # Winning percentage\n",
    "teams[\"perL\"] = teams[\"lost\"] / teams[\"GP\"] # Losing percentage\n",
    "teams[\"o_fgEf\"] = teams[\"o_fgm\"] / teams[\"o_fga\"] # Field goals  Percentage\n",
    "teams[\"o_ftEf\"] = teams[\"o_ftm\"] / teams[\"o_fta\"] # Free throws Percentage\n",
    "teams[\"o_3pEf\"] = teams[\"o_3pm\"] / teams[\"o_3pa\"] # Three-pointers Percentage\n",
    "teams[\"o_per\"] = teams[\"o_pts\"] + teams[\"o_pts\"]*1.5 + teams[\"o_oreb\"]*1.2 - teams[\"o_to\"]* 1.5 - teams[\"o_pf\"] # Performance\n",
    "teams[\"d_fgEf\"] = teams[\"d_fgm\"] / teams[\"d_fga\"] # Field goals by opponents Percentage\n",
    "teams[\"d_ftEf\"] = teams[\"d_ftm\"] / teams[\"d_fta\"] # Free throws by opponents Percentage\n",
    "teams[\"d_3pEf\"] = teams[\"d_3pm\"] / teams[\"d_3pa\"] # Three-pointers by opponents Percentage\n",
    "teams[\"pts_diff\"] =  teams[\"o_pts\"] -  teams[\"d_pts\"] # Difference between points scored and conceded\n",
    "teams[\"pts_mpg\"] =  teams[\"o_pts\"] / teams[\"GP\"] # Average points scored per game\n",
    "teams[\"pts_tmp\"] =  teams[\"d_pts\"] / teams[\"GP\"] # Average points conceded per game\n",
    "teams[\"effec_fg\"] =  (teams[\"pts_tmp\"] + 0.5 * teams[\"o_3pm\"]) /  teams[\"o_fga\"] # Effective Field Goal Percentage\n",
    "#Possessions \n",
    "teams[\"poss\"] = 0.5 * ((teams[\"o_fga\"] + 0.4 * teams[\"o_fta\"] - 1.07 * (teams[\"o_oreb\"] / (teams[\"o_oreb\"] + teams[\"d_dreb\"])) * (teams[\"o_fga\"] - teams[\"o_fgm\"]) + teams[\"o_to\"]) + \n",
    "                       (teams[\"d_fga\"] + 0.4 * teams[\"d_fga\"] - 1.07 * (teams[\"d_oreb\"] / (teams[\"d_oreb\"] + teams[\"o_dreb\"])) * (teams[\"d_fga\"] - teams[\"d_fgm\"]) + teams[\"d_to\"]))\n",
    "\n",
    "teams[\"off_rtg\"] = (teams[\"o_pts\"] / teams[\"poss\"]) * 100 # Offensive Rating\n",
    "teams[\"def_rtg\"] = (teams[\"d_pts\"] / teams[\"poss\"]) * 100 # Defensive Rating\n",
    "teams[\"minutes_team\"] = teams['min'] / 5"
   ]
  },
  {
   "cell_type": "markdown",
   "metadata": {},
   "source": [
    "## 5 - Feature Selection"
   ]
  },
  {
   "cell_type": "code",
   "execution_count": 19,
   "metadata": {},
   "outputs": [],
   "source": [
    "tables['teams'].drop(columns=['o_reb','d_reb','GP'], inplace=True)\n",
    "tables['players_teams'].drop(columns=['rebounds','PostRebounds'], inplace=True)"
   ]
  },
  {
   "cell_type": "markdown",
   "metadata": {},
   "source": [
    "## 6 - Transformation"
   ]
  },
  {
   "cell_type": "code",
   "execution_count": 20,
   "metadata": {},
   "outputs": [],
   "source": [
    "# shift for statistics from one year to be associated with those of the following year\n",
    "tables['teams'] = tables['teams'].sort_values(by=['tmID', 'year','playoff'])\n",
    "attributes = tables['teams'].drop(columns=['tmID', 'year','playoff']).columns\n",
    "last_year_team = tables['teams'].groupby('tmID').last().reset_index()\n",
    "last_year_lines = last_year_team.copy()\n",
    "last_year_lines['year'] += 1\n",
    "tables['teams'][attributes] = tables['teams'].groupby('tmID')[attributes].shift(fill_value=0)\n",
    "tables['teams'] = tables['teams'].sort_values(by=['tmID', 'year'])\n",
    "first_year_index = tables['teams'].groupby('tmID').head(1).index\n",
    "tables['teams'] = tables['teams'].drop(first_year_index).reset_index(drop=True)\n",
    "tables['teams'] = pd.concat([tables['teams'], last_year_lines], ignore_index=True)\n",
    "tables['teams'] = tables['teams'].sort_values(by=['tmID', 'year']).reset_index(drop=True)\n",
    "\n",
    "# shift for statistics from one year to be associated with those of the following year\n",
    "tables['players_teams'] = tables['players_teams'].sort_values(by=['playerID', 'year'])\n",
    "attributes = tables['players_teams'].drop(columns=['playerID', 'year', 'tmID']).columns\n",
    "tables['players_teams'][attributes] = tables['players_teams'].groupby('playerID')[attributes].shift(fill_value=0)\n",
    "first_year_index = tables['players_teams'].groupby('playerID')['year'].idxmin()\n",
    "tables['players_teams'] = tables['players_teams'].drop(first_year_index).reset_index(drop=True)\n",
    "tables['players_teams'] = tables['players_teams'].sort_values(by=['playerID', 'year']).reset_index(drop=True)\n",
    "tables['players_teams'] = tables['players_teams'].apply(lambda x: x.fillna(0) if x.dtype in ['float64', 'int64'] else x)\n",
    "\n",
    "# merge teams.csv with players_teams.csv\n",
    "tables['players_teams'] = pd.merge(tables['players_teams'], tables['teams'], on=['year', 'tmID'], how='inner')\n",
    "tables['players_teams'] = tables['players_teams'].sort_values(by=['tmID', 'year', 'minutes'], ascending=[True, True, False])\n",
    "tables['players_teams'] = tables['players_teams'].groupby(['tmID', 'year']).head(5).reset_index(drop=True)"
   ]
  },
  {
   "cell_type": "markdown",
   "metadata": {},
   "source": [
    "## 7 - Saving"
   ]
  },
  {
   "cell_type": "code",
   "execution_count": 21,
   "metadata": {},
   "outputs": [],
   "source": [
    "def table_to_csv(name):\n",
    "    os.makedirs('data_prepared', exist_ok=True)\n",
    "    path = os.path.join('data_prepared', name.lower().replace(' ', '_') + '.csv')\n",
    "    tables[name].to_csv(path, index=False)\n",
    "\n",
    "for table in tables.keys():\n",
    "    table_to_csv(table)"
   ]
  }
 ],
 "metadata": {
  "kernelspec": {
   "display_name": "Python 3",
   "language": "python",
   "name": "python3"
  },
  "language_info": {
   "codemirror_mode": {
    "name": "ipython",
    "version": 3
   },
   "file_extension": ".py",
   "mimetype": "text/x-python",
   "name": "python",
   "nbconvert_exporter": "python",
   "pygments_lexer": "ipython3",
   "version": "3.12.6"
  }
 },
 "nbformat": 4,
 "nbformat_minor": 2
}

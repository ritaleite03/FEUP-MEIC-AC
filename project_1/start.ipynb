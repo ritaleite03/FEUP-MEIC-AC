{
 "cells": [
  {
   "cell_type": "code",
   "execution_count": 11,
   "metadata": {},
   "outputs": [],
   "source": [
    "import seaborn as sns\n",
    "import matplotlib.pyplot as plt\n",
    "import pandas as pd\n",
    "import numpy as np\n",
    "\n",
    "from sklearn.tree import DecisionTreeClassifier\n",
    "from sklearn.metrics import accuracy_score"
   ]
  },
  {
   "cell_type": "markdown",
   "metadata": {},
   "source": [
    "1 - Upload the datasets"
   ]
  },
  {
   "cell_type": "code",
   "execution_count": 12,
   "metadata": {},
   "outputs": [],
   "source": [
    "awards_players = pd.read_csv(\"data/awards_players.csv\")\n",
    "coaches = pd.read_csv(\"data/coaches.csv\")\n",
    "players_teams = pd.read_csv(\"data/players_teams.csv\")\n",
    "players = pd.read_csv(\"data/players.csv\")\n",
    "series_post = pd.read_csv(\"data/series_post.csv\")\n",
    "teams_post = pd.read_csv(\"data/teams_post.csv\")\n",
    "teams = pd.read_csv(\"data/teams.csv\")"
   ]
  },
  {
   "cell_type": "markdown",
   "metadata": {},
   "source": [
    "2 - Remove the columns that have the same value in every entry"
   ]
  },
  {
   "cell_type": "code",
   "execution_count": 13,
   "metadata": {},
   "outputs": [
    {
     "name": "stdout",
     "output_type": "stream",
     "text": [
      "Contagem de outliers por coluna (ordenada):\n",
      "attend: 14 outliers\n",
      "awayL: 5 outliers\n",
      "d_asts: 4 outliers\n",
      "awayW: 4 outliers\n",
      "homeL: 3 outliers\n",
      "d_oreb: 3 outliers\n",
      "lost: 3 outliers\n",
      "o_pf: 2 outliers\n",
      "d_stl: 2 outliers\n",
      "d_ftm: 2 outliers\n",
      "d_3pa: 2 outliers\n",
      "d_3pm: 2 outliers\n",
      "o_stl: 2 outliers\n",
      "o_3pm: 2 outliers\n",
      "o_3pa: 2 outliers\n",
      "d_fta: 2 outliers\n",
      "o_pts: 1 outliers\n",
      "o_fgm: 1 outliers\n",
      "o_blk: 1 outliers\n",
      "homeW: 1 outliers\n",
      "d_blk: 1 outliers\n",
      "o_oreb: 1 outliers\n",
      "o_asts: 1 outliers\n",
      "d_pts: 1 outliers\n",
      "d_fgm: 1 outliers\n",
      "d_reb: 1 outliers\n",
      "o_dreb: 0 outliers\n",
      "divID: 0 outliers\n",
      "year: 0 outliers\n",
      "o_reb: 0 outliers\n",
      "o_fta: 0 outliers\n",
      "o_ftm: 0 outliers\n",
      "o_fga: 0 outliers\n",
      "seeded: 0 outliers\n",
      "rank: 0 outliers\n",
      "o_to: 0 outliers\n",
      "tmORB: 0 outliers\n",
      "d_pf: 0 outliers\n",
      "d_dreb: 0 outliers\n",
      "d_fga: 0 outliers\n",
      "d_to: 0 outliers\n",
      "opptmORB: 0 outliers\n",
      "tmDRB: 0 outliers\n",
      "GP: 0 outliers\n",
      "won: 0 outliers\n",
      "opptmTRB: 0 outliers\n",
      "opptmDRB: 0 outliers\n",
      "tmTRB: 0 outliers\n",
      "confW: 0 outliers\n",
      "confL: 0 outliers\n",
      "min: 0 outliers\n"
     ]
    }
   ],
   "source": [
    "import numpy as np\n",
    "import pandas as pd\n",
    "\n",
    "def count_outliers_iqr(df):\n",
    "    outlier_counts = {}\n",
    "    for col in df.select_dtypes(include=[np.number]).columns:  # Considerar apenas colunas numéricas\n",
    "        Q1 = df[col].quantile(0.25)\n",
    "        Q3 = df[col].quantile(0.75)\n",
    "        IQR = Q3 - Q1  # Intervalo interquartil\n",
    "        lower_bound = Q1 - 1.5 * IQR\n",
    "        upper_bound = Q3 + 1.5 * IQR\n",
    "\n",
    "        # Filtrar os outliers\n",
    "        outliers_in_col = df[(df[col] < lower_bound) | (df[col] > upper_bound)]\n",
    "        outlier_counts[col] = outliers_in_col.shape[0]  # Armazena a contagem de outliers\n",
    "\n",
    "    return outlier_counts\n",
    "\n",
    "# Exemplo com DataFrame coaches (ou substitua pelo seu DataFrame)\n",
    "outlier_counts = count_outliers_iqr(teams)\n",
    "\n",
    "# Converter o dicionário em DataFrame para facilitar a ordenação\n",
    "outlier_counts_df = pd.DataFrame(list(outlier_counts.items()), columns=['Column', 'Outlier Count'])\n",
    "\n",
    "# Ordenar a contagem de outliers em ordem decrescente\n",
    "outlier_counts_df = outlier_counts_df.sort_values(by='Outlier Count', ascending=False)\n",
    "\n",
    "# Imprimir a contagem de outliers por coluna\n",
    "if not outlier_counts_df.empty:\n",
    "    print(\"Contagem de outliers por coluna (ordenada):\")\n",
    "    for index, row in outlier_counts_df.iterrows():\n",
    "        print(f\"{row['Column']}: {row['Outlier Count']} outliers\")\n",
    "else:\n",
    "    print(\"Nenhum outlier encontrado.\")\n"
   ]
  },
  {
   "cell_type": "markdown",
   "metadata": {},
   "source": [
    "3 - Se if there are columns with null values"
   ]
  },
  {
   "cell_type": "markdown",
   "metadata": {},
   "source": [
    "# players_teams eliminar rebounds"
   ]
  },
  {
   "cell_type": "code",
   "execution_count": 14,
   "metadata": {},
   "outputs": [
    {
     "name": "stdout",
     "output_type": "stream",
     "text": [
      "awards_players - []\n",
      "coaches - []\n",
      "players_teams - []\n",
      "players - ['pos', 'college', 'collegeOther']\n",
      "series_post - []\n",
      "teams_post - []\n",
      "teams - ['divID', 'firstRound', 'semis', 'finals']\n"
     ]
    }
   ],
   "source": [
    "print(\"awards_players - \" + str(list(awards_players.columns[awards_players.isna().any()])))\n",
    "print(\"coaches - \" + str(list(coaches.columns[coaches.isna().any()])))\n",
    "print(\"players_teams - \" + str(list(players_teams.columns[players_teams.isna().any()])))\n",
    "print(\"players - \" + str(list(players.columns[players.isna().any()])))\n",
    "print(\"series_post - \" + str(list(series_post.columns[series_post.isna().any()])))\n",
    "print(\"teams_post - \" + str(list(teams_post.columns[teams_post.isna().any()])))\n",
    "print(\"teams - \" + str(list(teams.columns[teams.isna().any()])))\n"
   ]
  },
  {
   "cell_type": "markdown",
   "metadata": {},
   "source": [
    "4 - Change the team ID because of the teams that changed their name"
   ]
  },
  {
   "cell_type": "code",
   "execution_count": 15,
   "metadata": {},
   "outputs": [],
   "source": [
    "mapTeam = {}\n",
    "for index, row in teams[['tmID', 'franchID']].iterrows():\n",
    "    mapTeam [row['tmID']] = row['franchID']\n",
    "\n",
    "coaches['tmID'] = coaches['tmID'].replace(mapTeam) \n",
    "players_teams['tmID'] = players_teams['tmID'].replace(mapTeam) \n",
    "series_post['tmIDWinner'] = series_post['tmIDWinner'].replace(mapTeam) \n",
    "series_post['tmIDLoser'] = series_post['tmIDLoser'].replace(mapTeam) \n",
    "teams_post['tmID'] = teams_post['tmID'].replace(mapTeam)\n",
    "teams['tmID'] = teams['tmID'].replace(mapTeam).drop(columns=['franchID'])"
   ]
  },
  {
   "cell_type": "markdown",
   "metadata": {},
   "source": [
    "5 - Rename the columns and merge the datasets teams and coaches"
   ]
  },
  {
   "cell_type": "code",
   "execution_count": 16,
   "metadata": {},
   "outputs": [],
   "source": [
    "coaches = coaches.rename(columns=lambda x: x + '_coaches' if x not in ['year', 'tmID'] else x)\n",
    "teams_coaches_merge = pd.merge(teams, coaches, on=['year', 'tmID'], how='left')"
   ]
  },
  {
   "cell_type": "markdown",
   "metadata": {},
   "source": [
    "7 - Drop unnecessary columns (the ones that are directly related with the playoffs)"
   ]
  },
  {
   "cell_type": "code",
   "execution_count": 17,
   "metadata": {},
   "outputs": [],
   "source": [
    "teams_coaches_merge_without_playoffs = teams_coaches_merge.drop(columns=['firstRound', 'semis', 'finals', 'rank', 'post_wins_coaches', 'post_losses_coaches'])"
   ]
  },
  {
   "cell_type": "markdown",
   "metadata": {},
   "source": [
    "8 - Convert 'playoff' column to numeric"
   ]
  },
  {
   "cell_type": "code",
   "execution_count": 18,
   "metadata": {},
   "outputs": [],
   "source": [
    "teams_coaches_merge_without_playoffs['playoff'] = teams_coaches_merge_without_playoffs['playoff'].map({'Y': 1, 'N': 0})"
   ]
  },
  {
   "cell_type": "markdown",
   "metadata": {},
   "source": [
    "10 - Predictive model"
   ]
  },
  {
   "cell_type": "code",
   "execution_count": 19,
   "metadata": {},
   "outputs": [],
   "source": [
    "def algorithm(data, year, numberSeclected):\n",
    "    # Split training and testing data based on the year\n",
    "    training_data = data[data['year'] < year]\n",
    "    testing_data = data[data['year'] == year]\n",
    "\n",
    "    # Drop the target column and apply one-hot encoding to the features\n",
    "    X_train = pd.get_dummies(training_data.drop(columns=['playoff']), drop_first=True)\n",
    "    y_train = training_data['playoff']\n",
    "\n",
    "    X_test = pd.get_dummies(testing_data.drop(columns=['playoff']), drop_first=True)\n",
    "\n",
    "    # Align the train and test sets\n",
    "    X_train, X_test = X_train.align(X_test, join='left', axis=1, fill_value=0)\n",
    "\n",
    "    # Create and train the Decision Tree model\n",
    "    decision_tree = DecisionTreeClassifier(random_state=42)\n",
    "    decision_tree.fit(X_train, y_train)\n",
    "\n",
    "    # Make predictions on the test set\n",
    "    y_pred_proba = decision_tree.predict_proba(X_test)[:, 1]\n",
    "\n",
    "    # Forçar exatamente 8 previsões de \"1\"\n",
    "    y_pred = np.zeros_like(y_pred_proba) \n",
    "    top_8_indices = np.argsort(y_pred_proba)[-numberSeclected:]\n",
    "    y_pred[top_8_indices] = 1\n",
    "\n",
    "    # Evaluate the model's accuracy\n",
    "    accuracy = accuracy_score(testing_data['playoff'], y_pred)\n",
    "    print(f\"Accuracy: {accuracy:.2f}\")\n",
    "\n",
    "    # Extrair as importâncias das features\n",
    "    feature_importances = decision_tree.feature_importances_\n",
    "\n",
    "    # Criar um DataFrame para organizar as importâncias\n",
    "    feature_importances_df = pd.DataFrame({\n",
    "        'Feature': X_train.columns,\n",
    "        'Importance': feature_importances\n",
    "    })\n",
    "\n",
    "    # Ordenar as features pela importância\n",
    "    feature_importances_df = feature_importances_df.sort_values(by='Importance', ascending=False)\n",
    "\n",
    "    # Exibir as 10 features mais importantes\n",
    "    # print(\"Top 10 Most Important Features:\")\n",
    "    print(feature_importances_df.head(10))\n",
    "\n",
    "    # print(y_pred)\n"
   ]
  },
  {
   "cell_type": "code",
   "execution_count": 20,
   "metadata": {},
   "outputs": [
    {
     "name": "stdout",
     "output_type": "stream",
     "text": [
      "Accuracy: 0.44\n"
     ]
    },
    {
     "name": "stdout",
     "output_type": "stream",
     "text": [
      "   Feature  Importance\n",
      "39     won    0.705548\n",
      "47   confL    0.188956\n",
      "7    o_3pm    0.056684\n",
      "11   o_reb    0.048812\n",
      "4    o_fga    0.000000\n",
      "3    o_fgm    0.000000\n",
      "0     year    0.000000\n",
      "6    o_fta    0.000000\n",
      "5    o_ftm    0.000000\n",
      "9   o_oreb    0.000000\n",
      "Accuracy: 0.71\n",
      "                       Feature  Importance\n",
      "47                       confL    0.765957\n",
      "52                lost_coaches    0.141004\n",
      "49                      attend    0.051134\n",
      "93  coachID_coaches_donovan99w    0.041905\n",
      "1                        divID    0.000000\n",
      "5                        o_ftm    0.000000\n",
      "2                       seeded    0.000000\n",
      "3                        o_fgm    0.000000\n",
      "4                        o_fga    0.000000\n",
      "9                       o_oreb    0.000000\n",
      "Accuracy: 0.56\n",
      "   Feature  Importance\n",
      "39     won    0.719441\n",
      "47   confL    0.114230\n",
      "49  attend    0.048264\n",
      "21   d_fta    0.031877\n",
      "7    o_3pm    0.027198\n",
      "11   o_reb    0.023043\n",
      "31   d_blk    0.022121\n",
      "48     min    0.013826\n",
      "3    o_fgm    0.000000\n",
      "4    o_fga    0.000000\n"
     ]
    }
   ],
   "source": [
    "algorithm(teams_coaches_merge_without_playoffs[teams_coaches_merge_without_playoffs['confID']=='EA'],10,4)\n",
    "algorithm(teams_coaches_merge_without_playoffs[teams_coaches_merge_without_playoffs['confID']=='WE'],10,4)\n",
    "algorithm(teams_coaches_merge_without_playoffs,10,8)"
   ]
  }
 ],
 "metadata": {
  "kernelspec": {
   "display_name": "Python 3",
   "language": "python",
   "name": "python3"
  },
  "language_info": {
   "codemirror_mode": {
    "name": "ipython",
    "version": 3
   },
   "file_extension": ".py",
   "mimetype": "text/x-python",
   "name": "python",
   "nbconvert_exporter": "python",
   "pygments_lexer": "ipython3",
   "version": "3.12.6"
  }
 },
 "nbformat": 4,
 "nbformat_minor": 2
}

{
 "cells": [
  {
   "cell_type": "code",
   "execution_count": 1,
   "metadata": {},
   "outputs": [],
   "source": [
    "import seaborn as sns\n",
    "import matplotlib.pyplot as plt\n",
    "import pandas as pd\n",
    "from sklearn.tree import DecisionTreeClassifier\n",
    "from sklearn.metrics import accuracy_score"
   ]
  },
  {
   "cell_type": "markdown",
   "metadata": {},
   "source": [
    "1 - Upload the datasets"
   ]
  },
  {
   "cell_type": "code",
   "execution_count": 2,
   "metadata": {},
   "outputs": [],
   "source": [
    "awards_players = pd.read_csv(\"data/awards_players.csv\")\n",
    "coaches = pd.read_csv(\"data/coaches.csv\")\n",
    "players_teams = pd.read_csv(\"data/players_teams.csv\")\n",
    "players = pd.read_csv(\"data/players.csv\")\n",
    "series_post = pd.read_csv(\"data/series_post.csv\")\n",
    "teams_post = pd.read_csv(\"data/teams_post.csv\")\n",
    "teams = pd.read_csv(\"data/teams.csv\")"
   ]
  },
  {
   "cell_type": "markdown",
   "metadata": {},
   "source": [
    "2 - Remove the columns that have the same value in every entry"
   ]
  },
  {
   "cell_type": "code",
   "execution_count": 3,
   "metadata": {},
   "outputs": [],
   "source": [
    "awards_players = awards_players.loc[:, awards_players.nunique() > 1]\n",
    "coaches = coaches.loc[:, coaches.nunique() > 1]\n",
    "players_teams = players_teams.loc[:, players_teams.nunique() > 1]\n",
    "players = players.loc[:, players.nunique() > 1]\n",
    "series_post = series_post.loc[:, series_post.nunique() > 1]\n",
    "teams_post = teams_post.loc[:, teams_post.nunique() > 1]\n",
    "teams = teams.loc[:, teams.nunique() > 1]"
   ]
  },
  {
   "cell_type": "markdown",
   "metadata": {},
   "source": [
    "3 - Change the team ID because of the teams that changed their name"
   ]
  },
  {
   "cell_type": "code",
   "execution_count": 4,
   "metadata": {},
   "outputs": [],
   "source": [
    "mapTeam = {}\n",
    "for index, row in teams[['tmID', 'franchID']].iterrows():\n",
    "    mapTeam [row['tmID']] = row['franchID']\n",
    "\n",
    "coaches['tmID'] = coaches['tmID'].replace(mapTeam) \n",
    "players_teams['tmID'] = players_teams['tmID'].replace(mapTeam) \n",
    "series_post['tmIDWinner'] = series_post['tmIDWinner'].replace(mapTeam) \n",
    "series_post['tmIDLoser'] = series_post['tmIDLoser'].replace(mapTeam) \n",
    "teams_post['tmID'] = teams_post['tmID'].replace(mapTeam)\n",
    "teams['tmID'] = teams['tmID'].replace(mapTeam).drop(columns=['franchID'])"
   ]
  },
  {
   "cell_type": "markdown",
   "metadata": {},
   "source": [
    "4 - Rename the columns for merge"
   ]
  },
  {
   "cell_type": "code",
   "execution_count": 5,
   "metadata": {},
   "outputs": [],
   "source": [
    "coaches = coaches.rename(columns=lambda x: x + '_coaches' if x not in ['year', 'tmID'] else x)\n",
    "# teams_post = teams_post.rename(columns=lambda x: x + '_post' if x not in ['year', 'tmID'] else x)"
   ]
  },
  {
   "cell_type": "markdown",
   "metadata": {},
   "source": [
    "5 - Merge the datasets teams and coaches"
   ]
  },
  {
   "cell_type": "code",
   "execution_count": 6,
   "metadata": {},
   "outputs": [],
   "source": [
    "teams_coaches_merge = pd.merge(teams, coaches, on=['year', 'tmID'], how='left')\n",
    "# teams_coaches_merge = pd.merge(teams_coaches_merge, teams_post, on=['year', 'tmID'], how='left')"
   ]
  },
  {
   "cell_type": "markdown",
   "metadata": {},
   "source": [
    "6 - Fill NaN values"
   ]
  },
  {
   "cell_type": "code",
   "execution_count": 7,
   "metadata": {},
   "outputs": [],
   "source": [
    "teams_coaches_merge['W_post'] = teams_coaches_merge['W_post'].fillna(0)\n",
    "teams_coaches_merge['L_post'] = teams_coaches_merge['L_post'].fillna(0)"
   ]
  },
  {
   "cell_type": "markdown",
   "metadata": {},
   "source": [
    "7 - Drop unnecessary columns (the ones that are directly related with the playoffs)"
   ]
  },
  {
   "cell_type": "code",
   "execution_count": 8,
   "metadata": {},
   "outputs": [],
   "source": [
    "teams_coaches_merge_without_playoffs = teams_coaches_merge.drop(columns=['firstRound', 'semis', 'finals', 'W_post', 'L_post', 'rank', 'post_wins_coaches', 'post_losses_coaches'])"
   ]
  },
  {
   "cell_type": "code",
   "execution_count": 9,
   "metadata": {},
   "outputs": [],
   "source": [
    "teams_coaches_merge_without_playoffs['playoff'] = teams_coaches_merge_without_playoffs['playoff'].map({'Y': 1, 'N': 0})"
   ]
  },
  {
   "cell_type": "code",
   "execution_count": 10,
   "metadata": {},
   "outputs": [
    {
     "name": "stdout",
     "output_type": "stream",
     "text": [
      "Accuracy: 0.56\n"
     ]
    }
   ],
   "source": [
    "# Split training and testing data based on the year\n",
    "training_data = teams_coaches_merge_without_playoffs[teams_coaches_merge_without_playoffs['year'] < 10]\n",
    "testing_data = teams_coaches_merge_without_playoffs[teams_coaches_merge_without_playoffs['year'] == 10]\n",
    "\n",
    "# Drop the target column and apply one-hot encoding to the features\n",
    "X_train = pd.get_dummies(training_data.drop(columns=['playoff']), drop_first=True)\n",
    "y_train = training_data['playoff']\n",
    "\n",
    "X_test = pd.get_dummies(testing_data.drop(columns=['playoff']), drop_first=True)\n",
    "\n",
    "# Align the train and test sets\n",
    "X_train, X_test = X_train.align(X_test, join='left', axis=1, fill_value=0)\n",
    "\n",
    "# Create and train the Decision Tree model\n",
    "decision_tree = DecisionTreeClassifier(random_state=42)\n",
    "decision_tree.fit(X_train, y_train)\n",
    "\n",
    "# Make predictions on the test set\n",
    "y_pred = decision_tree.predict(X_test)\n",
    "\n",
    "# Evaluate the model's accuracy\n",
    "accuracy = accuracy_score(testing_data['playoff'], y_pred)\n",
    "print(f\"Accuracy: {accuracy:.2f}\")\n",
    "\n",
    "# Extrair as importâncias das features\n",
    "feature_importances = decision_tree.feature_importances_\n",
    "\n",
    "# Criar um DataFrame para organizar as importâncias\n",
    "feature_importances_df = pd.DataFrame({\n",
    "    'Feature': X_train.columns,\n",
    "    'Importance': feature_importances\n",
    "})\n",
    "\n",
    "# Ordenar as features pela importância\n",
    "feature_importances_df = feature_importances_df.sort_values(by='Importance', ascending=False)\n",
    "\n",
    "# Exibir as 10 features mais importantes\n",
    "# print(feature_importances_df.head(10))\n",
    "# Visualizar as importâncias das features\n",
    "# plt.figure(figsize=(10, 6))\n",
    "# sns.barplot(x='Importance', y='Feature', data=feature_importances_df.head(10))\n",
    "# plt.title('Top 10 Most Important Features')\n",
    "# plt.show()"
   ]
  }
 ],
 "metadata": {
  "kernelspec": {
   "display_name": "Python 3",
   "language": "python",
   "name": "python3"
  },
  "language_info": {
   "codemirror_mode": {
    "name": "ipython",
    "version": 3
   },
   "file_extension": ".py",
   "mimetype": "text/x-python",
   "name": "python",
   "nbconvert_exporter": "python",
   "pygments_lexer": "ipython3",
   "version": "3.12.6"
  }
 },
 "nbformat": 4,
 "nbformat_minor": 2
}

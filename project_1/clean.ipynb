{
 "cells": [
  {
   "cell_type": "code",
   "execution_count": 28,
   "metadata": {},
   "outputs": [],
   "source": [
    "import pandas as pd"
   ]
  },
  {
   "cell_type": "markdown",
   "metadata": {},
   "source": [
    "<h3>Load data</h3>"
   ]
  },
  {
   "cell_type": "code",
   "execution_count": 29,
   "metadata": {},
   "outputs": [],
   "source": [
    "awards_players = pd.read_csv(\"data/awards_players.csv\")\n",
    "coaches = pd.read_csv(\"data/coaches.csv\")\n",
    "players_teams = pd.read_csv(\"data/players_teams.csv\")\n",
    "players = pd.read_csv(\"data/players.csv\")\n",
    "series_post = pd.read_csv(\"data/series_post.csv\")\n",
    "teams_post = pd.read_csv(\"data/teams_post.csv\")\n",
    "teams = pd.read_csv(\"data/teams.csv\")\n",
    "\n",
    "tables = {\n",
    "    \"Awards Players\": awards_players,\n",
    "    \"Coaches\": coaches,\n",
    "    \"Players Teams\": players_teams,\n",
    "    \"Players\": players,\n",
    "    \"Series Post\": series_post,\n",
    "    \"Teams Post\": teams_post,\n",
    "    \"Teams\": teams\n",
    "}"
   ]
  },
  {
   "cell_type": "markdown",
   "metadata": {},
   "source": [
    "<h3>Remove cols with only one entry</h3>"
   ]
  },
  {
   "cell_type": "code",
   "execution_count": 30,
   "metadata": {},
   "outputs": [
    {
     "name": "stdout",
     "output_type": "stream",
     "text": [
      "Awards Players : 4 -> 3 ['lgID']\n",
      "Coaches : 9 -> 8 ['lgID']\n",
      "Players Teams : 43 -> 42 ['lgID']\n",
      "Players : 10 -> 8 ['firstseason', 'lastseason']\n",
      "Series Post : 9 -> 7 ['lgIDWinner', 'lgIDLoser']\n",
      "Teams Post : 5 -> 4 ['lgID']\n",
      "Teams : 61 -> 53 ['lgID', 'seeded', 'tmORB', 'tmDRB', 'tmTRB', 'opptmORB', 'opptmDRB', 'opptmTRB']\n"
     ]
    }
   ],
   "source": [
    "for name, table in tables.items():\n",
    "    before = len(table.columns)\n",
    "    nunique = table.nunique()\n",
    "    cols_to_drop = nunique[nunique == 1].index\n",
    "    tables[name] = table.drop(cols_to_drop, axis=1)\n",
    "    print(f\"{name} : {before} -> {len(tables[name].columns)} {cols_to_drop.to_list()}\")\n"
   ]
  },
  {
   "cell_type": "markdown",
   "metadata": {},
   "source": [
    "<h3>Remove cols without values</h3>"
   ]
  },
  {
   "cell_type": "code",
   "execution_count": 31,
   "metadata": {},
   "outputs": [
    {
     "name": "stdout",
     "output_type": "stream",
     "text": [
      "Awards Players : 3 -> 3 [[]]\n",
      "Coaches : 8 -> 8 [[]]\n",
      "Players Teams : 42 -> 42 [[]]\n",
      "Players : 8 -> 8 [[]]\n",
      "Series Post : 7 -> 7 [[]]\n",
      "Teams Post : 4 -> 4 [[]]\n",
      "Teams : 53 -> 52 [['divID']]\n"
     ]
    }
   ],
   "source": [
    "for name, table in tables.items():\n",
    "    before_cols = table.columns\n",
    "    tables[name] = table.dropna(axis=1, how='all')\n",
    "    after_cols = tables[name].columns\n",
    "    print(f\"{name} : {len(before_cols)} -> {len(after_cols)} [{list(filter(lambda x: x not in after_cols, before_cols))}]\")"
   ]
  },
  {
   "cell_type": "markdown",
   "metadata": {},
   "source": [
    "<h3>Cols with data missing</h3>"
   ]
  },
  {
   "cell_type": "code",
   "execution_count": 32,
   "metadata": {},
   "outputs": [
    {
     "name": "stdout",
     "output_type": "stream",
     "text": [
      "Players : 3 columns have missing data -> ['pos', 'college', 'collegeOther']\n",
      "Teams : 3 columns have missing data -> ['firstRound', 'semis', 'finals']\n"
     ]
    }
   ],
   "source": [
    "for name, table in tables.items():\n",
    "    cols_with_empty_values = table.columns[table.isnull().any()].to_list()\n",
    "    size = len(cols_with_empty_values)\n",
    "    if size > 0:\n",
    "        print(f\"{name} : {size} columns have missing data -> {cols_with_empty_values}\")"
   ]
  }
 ],
 "metadata": {
  "kernelspec": {
   "display_name": "base",
   "language": "python",
   "name": "python3"
  },
  "language_info": {
   "codemirror_mode": {
    "name": "ipython",
    "version": 3
   },
   "file_extension": ".py",
   "mimetype": "text/x-python",
   "name": "python",
   "nbconvert_exporter": "python",
   "pygments_lexer": "ipython3",
   "version": "3.11.7"
  }
 },
 "nbformat": 4,
 "nbformat_minor": 2
}

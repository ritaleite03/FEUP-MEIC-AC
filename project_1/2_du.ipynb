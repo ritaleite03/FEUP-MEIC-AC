{
 "cells": [
  {
   "cell_type": "markdown",
   "metadata": {},
   "source": [
    "# Data Understanding\n",
    "\n",
    "The metrics that will be used to evaluate this stage are:\n",
    "\n",
    "- **Diversity** of statistical methods and graphs (rich and justified set of methods);\n",
    "\n",
    "- **Complexity** of statistical methods and graphs (complex and integrated 3+D methods with clear results);\n",
    "\n",
    "- **Interpretation** of results of statistical methods and graphs;\n",
    "\n",
    "- **Knowledge extraction** from results of statistical methods (interesting, new and non-trivial knowledge obtained)."
   ]
  },
  {
   "cell_type": "code",
   "execution_count": 225,
   "metadata": {},
   "outputs": [],
   "source": [
    "import seaborn as sns\n",
    "import matplotlib.pyplot as plt\n",
    "import pandas as pd\n",
    "\n",
    "teams = pd.read_csv(\"data/teams.csv\")\n",
    "teams_post = pd.read_csv(\"data/teams_post.csv\")\n",
    "series_post = pd.read_csv(\"data/series_post.csv\")\n",
    "coaches = pd.read_csv(\"data/coaches.csv\")\n",
    "awards_players = pd.read_csv(\"data/awards_players.csv\")\n",
    "players_teams = pd.read_csv(\"data/players_teams.csv\")\n",
    "players = pd.read_csv(\"data/players.csv\")"
   ]
  },
  {
   "cell_type": "markdown",
   "metadata": {},
   "source": [
    "## 1 - Analysing teams.csv\n",
    "\n",
    "### 1.0 - General Information\n",
    "\n",
    "- There are two similar columns `tmID` and `franchID`. They always have the same value except in some cases. We checked and, when they have different names, it is because the name under which the team participated in the competition (`tmdID`) is different from its current name (`franchID`).\n",
    "\n",
    "- There are columns that have null values ​​in all entries (`divID`).\n",
    "\n",
    "- There are columns that have the same value in all entries (`lgID`, `seeded`, `tmORB`, `tmDRB`, `tmTRB`, `opptmORB`, `opptmDRB`,  `opptmTRB`).\n",
    "\n",
    "- Only 8 teams make the playoffs each year, 4 from each conference."
   ]
  },
  {
   "cell_type": "code",
   "execution_count": null,
   "metadata": {},
   "outputs": [],
   "source": [
    "columns_null = teams.columns[teams.isnull().all()]\n",
    "print(\"Columns where all the values are null:\" + str(list(columns_null)))\n",
    "    \n",
    "columns_equal = teams.columns[teams.nunique() == 1]\n",
    "print(\"Columns where all the values are the same:\" + str(list(columns_equal)))"
   ]
  },
  {
   "cell_type": "markdown",
   "metadata": {},
   "source": [
    "### 1.1 - Median of games won, lost, and playoff’s proporcion for each team\n",
    "The teams that make it to the playoffs more often are also those with the highest average number of wins. The opposite is also true, the teams with the most losses and the fewest wins are also those that have made it to the playoffs the least number of times."
   ]
  },
  {
   "cell_type": "code",
   "execution_count": null,
   "metadata": {},
   "outputs": [],
   "source": [
    "def teams_relation_won_lost_playoff_team(data):  \n",
    "    data = teams.groupby('franchID').agg(won=('won','mean'), lost=('lost','mean'), playoff_proportion=('playoff', lambda x: (x == 'Y').sum() / len(x)))\n",
    "    data = data.reset_index()\n",
    "    data = data.sort_values(by='playoff_proportion', ascending=False)\n",
    "    data_games = data.melt(id_vars='franchID', value_vars=['won','lost'], var_name='Result', value_name='Median')\n",
    "    _, ax1 = plt.subplots(figsize=(14,5))\n",
    "    sns.barplot(x='franchID', y='Median', hue='Result', data=data_games, ax=ax1)\n",
    "    ax1.set_xlabel(\"Team's ID\")\n",
    "    ax1.set_ylabel(\"Median of Games Won/Lost\")\n",
    "    ax1.set_title(\"Median of Games Won, Lost, and Playoff Proportion for Each Team\")\n",
    "    ax1.tick_params(axis='x', rotation=90)\n",
    "    ax2 = ax1.twinx()\n",
    "    sns.scatterplot(x='franchID', y='playoff_proportion', data=data, ax=ax2, color='black', marker='o', s=100)\n",
    "    ax2.set_ylabel(\"Proportion of Playoff Entries\")\n",
    "    ax1.legend(loc='upper left', title='Games')\n",
    "    ax2.legend(['Playoff Proportion'], loc='upper right', title='Playoff Proportion')\n",
    "    plt.show()\n",
    "    \n",
    "teams_relation_won_lost_playoff_team(teams.copy())"
   ]
  },
  {
   "cell_type": "markdown",
   "metadata": {},
   "source": [
    "### 1.2 - Distribuition of games won by team\n",
    "The variation of the number of games won by each team, by year, seems to not change that much."
   ]
  },
  {
   "cell_type": "code",
   "execution_count": null,
   "metadata": {},
   "outputs": [],
   "source": [
    "def teams_relation_won_team(data):\n",
    "    data_agg = data.groupby('franchID').agg(won=('won','mean'), lost=('lost','mean'), playoff_proportion=('playoff', lambda x: (x == 'Y').sum() / len(x))).reset_index()\n",
    "    data_agg = data_agg.sort_values(by='playoff_proportion', ascending=False)\n",
    "    data_games = data.melt(id_vars='franchID', value_vars=['won'], var_name='Result', value_name='Games')\n",
    "    plt.figure(figsize=(6, 4))\n",
    "    sns.boxplot(x='franchID', y='Games', data=data_games[data_games['Result'] == 'won'])\n",
    "    plt.title(\"Distribution of Games Won by Team\")\n",
    "    plt.xlabel(\"Team's ID\")\n",
    "    plt.ylabel(\"Games Won\")\n",
    "    plt.xticks(rotation=90)\n",
    "    plt.tight_layout()\n",
    "    plt.show()\n",
    "\n",
    "teams_relation_won_team(teams.copy())"
   ]
  },
  {
   "cell_type": "markdown",
   "metadata": {},
   "source": [
    "### 1.3 Average attendance by team with average ranking\n",
    "Neither the teams with the lower reaking have higher assist numbers, nor the teams with the highest have lower attendance levels. It is important to notice that the higher the ranking, the worst are the team’s results."
   ]
  },
  {
   "cell_type": "code",
   "execution_count": null,
   "metadata": {},
   "outputs": [],
   "source": [
    "def teams_relation_attend_rank_team(data):\n",
    "    data = data.groupby('franchID')[['attend','rank']].mean()\n",
    "    data = data.reset_index()\n",
    "    data = data.sort_values( by='attend', ascending=False)\n",
    "    plt.figure(figsize=(8,4))\n",
    "    sns.barplot(x='franchID', y='attend', data=data, color='skyblue', edgecolor='black')\n",
    "    plt.title('Average Attendance by Team with Average Ranking')\n",
    "    plt.xlabel('Team')\n",
    "    plt.ylabel('Average Attendance')\n",
    "    plt.xticks(rotation=90)\n",
    "    ax2 = plt.gca().twinx()\n",
    "    ax2.scatter(x=data['franchID'], y=data['rank'], color='black', label='Average Ranking', marker='o')    \n",
    "    ax2.set_ylabel('Average Ranking', color='black')\n",
    "    ax2.set_ylim(0,8)\n",
    "    ax2.tick_params(axis='y', labelcolor='black')\n",
    "    plt.legend(loc='upper left')\n",
    "    plt.tight_layout()\n",
    "    plt.show()\n",
    "\n",
    "teams_relation_attend_rank_team(teams.copy())"
   ]
  },
  {
   "cell_type": "markdown",
   "metadata": {},
   "source": [
    "### 1.4 - Team’s ranking over the years\n",
    "The variation of the ranking of each team seems to be small in most of the cases. In most cases, the ranking variation appears to be progressive, with few cases in which the team's ranking varies by more than 3 values ​​from one year to the next."
   ]
  },
  {
   "cell_type": "code",
   "execution_count": null,
   "metadata": {},
   "outputs": [],
   "source": [
    "def teams_relation_year_rank_team(data):\n",
    "    data = data[['year','franchID','rank']]\n",
    "    data = data.sort_values(by=['franchID','year'])\n",
    "    teams = data['franchID'].unique()\n",
    "    num_teams = len(teams)\n",
    "    num_cols = 6\n",
    "    num_rows = (num_teams + num_cols - 1) // num_cols\n",
    "    fig, axes = plt.subplots(num_rows, num_cols, figsize=(14, 2 * num_rows ), squeeze=False)\n",
    "    for idx, team in enumerate(teams):\n",
    "        data_team = data[data['franchID'] == team]        \n",
    "        ax = axes[idx // num_cols, idx % num_cols]\n",
    "        sns.lineplot(x='year', y='rank', data=data_team, color='b', marker='o', linewidth=2, ax=ax)\n",
    "        ax.set_title(f'{team}\\'s')\n",
    "        ax.set_xlabel('Year')\n",
    "        ax.set_ylabel('Rank')        \n",
    "        ax.invert_yaxis()        \n",
    "        ax.xaxis.set_major_locator(plt.MaxNLocator(integer=True))\n",
    "        ax.set_ylim(1,8)\n",
    "        ax.set_xlim(1,10)\n",
    "    for j in range(idx + 1, num_rows * num_cols):\n",
    "        fig.delaxes(axes[ j // num_cols, j % num_cols])\n",
    "    plt.tight_layout()\n",
    "    plt.show()\n",
    "\n",
    "teams_relation_year_rank_team(teams.copy())"
   ]
  },
  {
   "cell_type": "markdown",
   "metadata": {},
   "source": [
    "### 1.5 - Team’s presence in playoffs over the years\n",
    "\n",
    "The variation of the presence in the playoffs of each team seems to be small in most of the cases. The execeptions are WAS and NYL."
   ]
  },
  {
   "cell_type": "code",
   "execution_count": null,
   "metadata": {},
   "outputs": [],
   "source": [
    "def teams_relation_year_playoff_team( data ):\n",
    "    data['playoff_numeric'] = data['playoff'].map({'Y': 1, 'N': 0})\n",
    "    data = data[['year','franchID','playoff_numeric']]\n",
    "    data = data.sort_values(by=['franchID','year'])\n",
    "    teams = data['franchID'].unique()\n",
    "    num_teams = len(teams)\n",
    "    num_cols = 6\n",
    "    num_rows = (num_teams + num_cols - 1) // num_cols\n",
    "    fig, axes = plt.subplots(num_rows, num_cols, figsize=(14, 1.5 * num_rows), squeeze=False)\n",
    "    for idx, team in enumerate(teams):\n",
    "        data_team = data[data[ 'franchID' ] == team]\n",
    "        ax = axes[idx // num_cols, idx % num_cols]\n",
    "        sns.lineplot(x='year', y='playoff_numeric', data=data_team, color='b', marker='o', linewidth=2, ax=ax )\n",
    "        ax.set_title(f'{team}\\'s')\n",
    "        ax.set_xlabel('Year')\n",
    "        ax.set_ylabel('Playoff')\n",
    "        ax.xaxis.set_major_locator(plt.MaxNLocator(integer=True))\n",
    "        ax.set_ylim(-0.2,1.2)\n",
    "        ax.set_yticks([0,1])\n",
    "        ax.set_xlim(1,10)\n",
    "    for j in range(idx + 1, num_rows * num_cols):\n",
    "        fig.delaxes(axes[j // num_cols, j % num_cols])\n",
    "    plt.tight_layout()\n",
    "    plt.show()\n",
    "\n",
    "teams_relation_year_playoff_team(teams.copy())"
   ]
  },
  {
   "cell_type": "markdown",
   "metadata": {},
   "source": [
    "### 1.6 - Relation between teams numbers of playoff and numbers o awards \n",
    "The number of player awards a team has doesn't seem to have much of a correlation with its playoff presence. For example, the New York Liberty have a lot of playoff appearances but few awards."
   ]
  },
  {
   "cell_type": "code",
   "execution_count": null,
   "metadata": {},
   "outputs": [],
   "source": [
    "# join players.csv with players_teams.csv\n",
    "players.rename(columns={'bioID': 'playerID'}, inplace=True)\n",
    "players_teams = pd.merge( players_teams, players, on='playerID', how='left')\n",
    "\n",
    "# join awards_players.csv with players_teams.csv and coaches.csv\n",
    "merged_players_awards = pd.merge(awards_players, players_teams, on=['playerID', 'year'], how='inner')\n",
    "awards_count = merged_players_awards.groupby(['playerID', 'year']).size().reset_index(name='awards')\n",
    "players_teams = pd.merge(players_teams, awards_count[['playerID', 'year', 'awards']], on=['playerID', 'year'], how='left')\n",
    "players_teams['awards'] = players_teams['awards'].fillna(0).astype(int)\n",
    "merged_coaches_awards = pd.merge(awards_players, coaches, left_on=['playerID', 'year'], right_on=['coachID', 'year'], how='inner')\n",
    "awards_count = merged_coaches_awards.groupby(['coachID', 'year']).size().reset_index(name='awards')\n",
    "coaches = pd.merge(coaches, awards_count[['coachID', 'year', 'awards']], on=['coachID', 'year'], how='left')\n",
    "coaches['awards'] = coaches['awards'].fillna(0).astype(int)\n",
    "\n",
    "# join teams_post.csv with teams.csv\n",
    "teams_post.rename(columns={'W': 'wonPost', 'L': 'lostPost'}, inplace=True)\n",
    "teams = pd.merge(teams, teams_post, on=['tmID', 'year'], how='left')\n",
    "teams['wonPost'] = teams['wonPost'].fillna(0).astype(int)\n",
    "teams['lostPost'] = teams['lostPost'].fillna(0).astype(int)\n",
    "\n",
    "# join awards column of players_teams.csv and coaches.csv with teams.csv\n",
    "team_players_count = players_teams.groupby(['tmID', 'year'])['awards'].sum().reset_index()\n",
    "team_players_count = team_players_count.rename(columns={'awards': 'awards_players'})\n",
    "teams = teams.merge(team_players_count, on=['year','tmID'], how='left')\n",
    "teams['awards_players'] = teams['awards_players'].fillna(0).astype(int)\n",
    "team_coaches_count = coaches.groupby(['tmID', 'year'])['awards'].sum().reset_index()\n",
    "team_coaches_count = team_coaches_count.rename(columns={'awards': 'awards_coaches'})\n",
    "teams = teams.merge(team_coaches_count, on=['tmID', 'year'], how='left')\n",
    "teams['awards_coaches'] = teams['awards_coaches'].fillna(0).astype(int)\n",
    "\n",
    "# join teams.csv with players_teams.to_csv\n",
    "players_teams = players_teams.merge(teams, on=['year', 'tmID'], how='left')\n",
    "\n",
    "teams['playoff'] = teams['playoff'].map({'Y': 1, 'N': 0})\n",
    "agg_data = teams.groupby('tmID').agg(avg_num=('awards_players', 'mean'),playoff_rate=('won', 'mean')).reset_index().sort_values(ascending=False, by='avg_num')\n",
    "fig, ax1 = plt.subplots(figsize=(10, 6))\n",
    "sns.barplot(x='tmID', y='avg_num', data=agg_data, alpha=0.7, label='Média de awards_players', ax=ax1)\n",
    "ax2 = ax1.twinx()\n",
    "sns.lineplot(x='tmID', y='playoff_rate', data=agg_data, marker='o', label='Proporção de playoff (Y)', ax=ax2)\n",
    "ax1.set_xlabel('tmID', fontsize=14)\n",
    "ax1.set_ylabel('Média de awards_players', fontsize=14)\n",
    "ax2.set_ylabel('Proporção de playoff', fontsize=14)\n",
    "plt.title('Média de awards_players e Proporção de Playoff por tmID', fontsize=16)\n",
    "ax1.legend(loc='upper left')\n",
    "ax2.legend(loc='upper right')\n",
    "plt.tight_layout()\n",
    "plt.show()"
   ]
  },
  {
   "cell_type": "markdown",
   "metadata": {},
   "source": [
    "### 1.7 - Difference between home and away wins by Team and home and away losses by Team\n",
    "All teams have more wins and fewer losses when playing at home. However, some seem to be more influenced than others. For example, Atlanta doesn't show a big difference, but Seattle does."
   ]
  },
  {
   "cell_type": "code",
   "execution_count": null,
   "metadata": {},
   "outputs": [],
   "source": [
    "agg_data = teams.groupby('tmID')[['homeW', 'awayW']].sum()\n",
    "agg_data['difference'] = agg_data['homeW'] - agg_data['awayW']\n",
    "plt.figure(figsize=(8, 4))\n",
    "plt.bar(agg_data.index, agg_data['difference'], color=['green' if x > 0 else 'red' for x in agg_data['difference']])\n",
    "plt.title(\"Difference between home and away wins by Team\", fontsize=10)\n",
    "plt.xlabel(\"Team's ID\", fontsize=8)\n",
    "plt.ylabel(\"Difference (HomeW - AwayW)\", fontsize=8)\n",
    "plt.grid(axis='y', linestyle='--', alpha=0.7)\n",
    "plt.xticks(rotation=90)\n",
    "plt.tight_layout()\n",
    "plt.show()"
   ]
  },
  {
   "cell_type": "code",
   "execution_count": null,
   "metadata": {},
   "outputs": [],
   "source": [
    "agg_data = teams.groupby('tmID')[['homeL', 'awayL']].sum()\n",
    "agg_data['difference'] = agg_data['homeL'] - agg_data['awayL']\n",
    "plt.figure(figsize=(8, 4))\n",
    "plt.bar(agg_data.index, agg_data['difference'], color=['green' if x > 0 else 'red' for x in agg_data['difference']])\n",
    "plt.title(\"Difference between home and away losses by Team\", fontsize=10)\n",
    "plt.xlabel(\"Team's ID\", fontsize=8)\n",
    "plt.ylabel(\"Difference (HomeL - AwayL)\", fontsize=8)\n",
    "plt.grid(axis='y', linestyle='--', alpha=0.7)\n",
    "plt.xticks(rotation=90)\n",
    "plt.tight_layout()\n",
    "plt.show()"
   ]
  },
  {
   "cell_type": "markdown",
   "metadata": {},
   "source": [
    "## 2 - Analysing teams_post.csv"
   ]
  },
  {
   "cell_type": "markdown",
   "metadata": {},
   "source": [
    "### 2.1 - Wins and losses in teams_post\n",
    "From teams_post it is possible to see that some teams have a high number of wins, as well as losses, which leads us to believe that they are the ones that go to the playoffs more often."
   ]
  },
  {
   "cell_type": "code",
   "execution_count": null,
   "metadata": {},
   "outputs": [],
   "source": [
    "summary = teams_post.groupby(\"tmID\")[[\"wonPost\", \"lostPost\"]].sum()\n",
    "summary.plot(kind=\"bar\", figsize=(8, 6))\n",
    "plt.title(\"Sum of victories (W) and losses (L) by team in post\")\n",
    "plt.xlabel(\"Team's ID\")\n",
    "plt.ylabel(\"Total\")\n",
    "plt.legend([\"victories (W)\", \"losses (L)\"])\n",
    "plt.xticks(rotation=0)\n",
    "plt.tight_layout()\n",
    "plt.show()"
   ]
  },
  {
   "cell_type": "markdown",
   "metadata": {},
   "source": [
    "### 2.2 - Distribution of post appearances\n",
    "To prove what was predicted from figure 11, in figure 12 it is possible to see in fact the teams that stand out in the number of appearances in teams_post, as is the case of LAS and SAC."
   ]
  },
  {
   "cell_type": "code",
   "execution_count": null,
   "metadata": {},
   "outputs": [],
   "source": [
    "tmID_counts = teams_post[\"tmID\"].value_counts()\n",
    "plt.figure(figsize=(10, 10))\n",
    "tmID_counts.plot(kind=\"pie\", autopct=\"%1.0f%%\", startangle=90)\n",
    "plt.title(\"Distribution of post appearances\")\n",
    "plt.ylabel(\"\") \n",
    "plt.show()"
   ]
  },
  {
   "cell_type": "markdown",
   "metadata": {},
   "source": [
    "## 3 - Analysing players_teams.csv"
   ]
  },
  {
   "cell_type": "code",
   "execution_count": null,
   "metadata": {},
   "outputs": [],
   "source": [
    "plt.figure(figsize=(10, 6))\n",
    "plt.scatter(players_teams[\"tmID\"], players_teams[\"fgMade\"], color=\"blue\", alpha=0.7)\n",
    "plt.title(\"Number of goals made by each player (with the team associated)\")\n",
    "plt.xlabel(\"Team's ID\")\n",
    "plt.ylabel(\"Number of Goals\")\n",
    "plt.grid(axis=\"y\", linestyle=\"--\", alpha=0.7)\n",
    "plt.tight_layout()\n",
    "plt.show()"
   ]
  },
  {
   "cell_type": "markdown",
   "metadata": {},
   "source": [
    "### 3.1 - Points made and minutes played\n",
    "As expected, the more minutes played, the more points are scored. It will therefore be interesting to evaluate the number of points scored per minute to assess the player's performance."
   ]
  },
  {
   "cell_type": "code",
   "execution_count": null,
   "metadata": {},
   "outputs": [],
   "source": [
    "plt.figure(figsize=(6, 6))\n",
    "plt.scatter(players_teams[\"minutes\"], players_teams[\"points\"], color=\"blue\", alpha=0.7)\n",
    "plt.title(\"Points made and minutes played\")\n",
    "plt.xlabel(\"Number og goals made\")\n",
    "plt.ylabel(\"Number of Minutes Played\")\n",
    "plt.grid(axis=\"y\", linestyle=\"--\", alpha=0.7)\n",
    "plt.tight_layout()\n",
    "plt.show()"
   ]
  },
  {
   "cell_type": "markdown",
   "metadata": {},
   "source": [
    "## 4 - Analysing players.csv"
   ]
  },
  {
   "cell_type": "markdown",
   "metadata": {},
   "source": [
    "### 4.1 - Distribuition of the height and weight of the players\n",
    "The height and weight of players always seem to be around the same values, but there are  cases where a player has a height of 0 and/or a weight of 0. This is impossible to happen."
   ]
  },
  {
   "cell_type": "code",
   "execution_count": null,
   "metadata": {},
   "outputs": [],
   "source": [
    "df_clean = players.dropna(subset=['height', 'weight'])\n",
    "fig, axes = plt.subplots(1, 2, figsize=(8, 3))\n",
    "sns.histplot(df_clean['height'], color='skyblue', ax=axes[0], bins=20)\n",
    "axes[0].set_title('Distribuition of Height', fontsize=10)\n",
    "axes[0].set_xlabel('Height', fontsize=8)\n",
    "axes[0].set_ylabel('Frequency', fontsize=8)\n",
    "sns.histplot(df_clean['weight'], color='yellow', ax=axes[1], bins=20)\n",
    "axes[1].set_title('Distribuition of Weight', fontsize=10)\n",
    "axes[1].set_xlabel('Weight', fontsize=8)\n",
    "axes[1].set_ylabel('Frequency', fontsize=8)\n",
    "plt.tight_layout()\n",
    "plt.show()"
   ]
  },
  {
   "cell_type": "markdown",
   "metadata": {},
   "source": [
    "### 4.2 - Number of players with N presences in the league\n",
    "There are several players who only played for one year, with few playing for years. The number of times they played can be an indication of their experience, and therefore their quality."
   ]
  },
  {
   "cell_type": "code",
   "execution_count": null,
   "metadata": {},
   "outputs": [],
   "source": [
    "player_counts = players_teams['playerID'].value_counts()\n",
    "count_of_counts = player_counts.value_counts().sort_index()\n",
    "plt.figure(figsize=(5, 3))\n",
    "plt.bar(count_of_counts.index, count_of_counts.values, color='forestgreen')\n",
    "plt.title('Number of players with N presences in the league', fontsize=10)\n",
    "plt.xlabel('Number of presences', fontsize=8)\n",
    "plt.ylabel('Number of players', fontsize=8)\n",
    "plt.xticks(count_of_counts.index)\n",
    "plt.show()"
   ]
  },
  {
   "cell_type": "markdown",
   "metadata": {},
   "source": [
    "### 4.3 - Distribuition of players by position\n",
    "The distribution of player positions is not uniform. The \"G\" and \"F\" positions are much more represented in our dataset."
   ]
  },
  {
   "cell_type": "code",
   "execution_count": null,
   "metadata": {},
   "outputs": [],
   "source": [
    "college_counts = players['pos'].value_counts()\n",
    "plt.figure(figsize=(4, 4))\n",
    "plt.pie(college_counts, labels=college_counts.index, autopct='%1.1f%%',colors=plt.cm.Paired.colors)\n",
    "plt.title(\"Distribuition of players by position\", fontsize=10)\n",
    "plt.axis('equal')\n",
    "plt.tight_layout()\n",
    "plt.show()\n"
   ]
  }
 ],
 "metadata": {
  "kernelspec": {
   "display_name": "Python 3",
   "language": "python",
   "name": "python3"
  },
  "language_info": {
   "codemirror_mode": {
    "name": "ipython",
    "version": 3
   },
   "file_extension": ".py",
   "mimetype": "text/x-python",
   "name": "python",
   "nbconvert_exporter": "python",
   "pygments_lexer": "ipython3",
   "version": "3.12.6"
  }
 },
 "nbformat": 4,
 "nbformat_minor": 2
}

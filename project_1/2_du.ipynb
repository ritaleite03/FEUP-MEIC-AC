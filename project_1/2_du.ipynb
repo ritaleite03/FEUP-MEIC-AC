{
 "cells": [
  {
   "cell_type": "markdown",
   "metadata": {},
   "source": [
    "# Data Understanding\n",
    "\n",
    "The metrics that will be used to evaluate this stage are:\n",
    "\n",
    "- **Diversity** of statistical methods and graphs (rich and justified set of methods);\n",
    "\n",
    "- **Complexity** of statistical methods and graphs (complex and integrated 3+D methods with clear results);\n",
    "\n",
    "- **Interpretation** of results of statistical methods and graphs;\n",
    "\n",
    "- **Knowledge extraction** from results of statistical methods (interesting, new and non-trivial knowledge obtained)."
   ]
  },
  {
   "cell_type": "code",
   "execution_count": null,
   "metadata": {},
   "outputs": [],
   "source": [
    "import seaborn as sns\n",
    "import matplotlib.pyplot as plt\n",
    "import pandas as pd\n",
    "import numpy as np\n",
    "from sklearn.calibration import LabelEncoder\n",
    "\n",
    "teams = pd.read_csv(\"data/teams.csv\")\n",
    "teams_post = pd.read_csv(\"data/teams_post.csv\")\n",
    "series_post = pd.read_csv(\"data/series_post.csv\")\n",
    "coaches = pd.read_csv(\"data/coaches.csv\")\n",
    "awards_players = pd.read_csv(\"data/awards_players.csv\")\n",
    "players_teams = pd.read_csv(\"data/players_teams.csv\")\n",
    "players = pd.read_csv(\"data/players.csv\")"
   ]
  },
  {
   "cell_type": "markdown",
   "metadata": {},
   "source": [
    "## 1 - Analysing teams.csv\n",
    "\n",
    "### 1.0 - General Information\n",
    "\n",
    "- There are two similar columns `tmID` and `franchID`. They always have the same value except in some cases. We checked and, when they have different names, it is because the name under which the team participated in the competition (`tmdID`) is different from its current name (`franchID`).\n",
    "\n",
    "- There are columns that have null values ​​in all entries (`divID`).\n",
    "\n",
    "- There are columns that have the same value in all entries (`lgID`, `seeded`, `tmORB`, `tmDRB`, `tmTRB`, `opptmORB`, `opptmDRB`,  `opptmTRB`).\n",
    "\n",
    "- Only 8 teams make the playoffs each year, 4 from each conference."
   ]
  },
  {
   "cell_type": "code",
   "execution_count": null,
   "metadata": {},
   "outputs": [],
   "source": [
    "columns_null = teams.columns[teams.isnull().all()]\n",
    "print(\"Columns where all the values are null:\" + str(list(columns_null)))\n",
    "    \n",
    "columns_equal = teams.columns[teams.nunique() == 1]\n",
    "print(\"Columns where all the values are the same:\" + str(list(columns_equal)))"
   ]
  },
  {
   "cell_type": "markdown",
   "metadata": {},
   "source": [
    "### 1.1 - Relationship between median of games won and lost, median of playoffs and team (4 characteristics)\n",
    "\n",
    "It is possible to see that the number of games won and lost is closely linked to the probability of the team making it to the playoffs.\n",
    "\n",
    "The teams that make it to the playoffs more often are also those with the highest average number of wins, such as LAS and SAC. The opposite is also true, as it is possible to see that the teams with the most losses and the fewest wins, CHI and POR, are also those that have made it to the playoffs the least."
   ]
  },
  {
   "cell_type": "code",
   "execution_count": null,
   "metadata": {},
   "outputs": [],
   "source": [
    "def teams_relation_won_lost_playoff_team(data):\n",
    "    \n",
    "    data = teams.groupby('franchID').agg(won=('won','mean'), lost=('lost','mean'), playoff_proportion=('playoff', lambda x: (x == 'Y').sum() / len(x)))\n",
    "    data = data.reset_index()\n",
    "    data = data.sort_values(by='playoff_proportion', ascending=False)\n",
    "    data_games = data.melt(id_vars='franchID', value_vars=['won','lost'], var_name='Result', value_name='Median')\n",
    "\n",
    "    fig, ax1 = plt.subplots(figsize=(14,5))\n",
    "    \n",
    "    sns.barplot(x='franchID', y='Median', hue='Result', data=data_games, ax=ax1)\n",
    "    ax1.set_xlabel(\"Team's ID\")\n",
    "    ax1.set_ylabel(\"Median of Games Won/Lost\")\n",
    "    ax1.set_title(\"Median of Games Won, Lost, and Playoff Proportion for Each Team\")\n",
    "    ax1.tick_params(axis='x', rotation=90)\n",
    "    ax2 = ax1.twinx()\n",
    "    \n",
    "    sns.scatterplot(x='franchID', y='playoff_proportion', data=data, ax=ax2, color='black', marker='o', s=100)\n",
    "    ax2.set_ylabel(\"Proportion of Playoff Entries\")\n",
    "    ax1.legend(loc='upper left', title='Games')\n",
    "    ax2.legend(['Playoff Proportion'], loc='upper right', title='Playoff Proportion')\n",
    "    plt.show()\n",
    "\n",
    "teams_relation_won_lost_playoff_team(teams.copy())"
   ]
  },
  {
   "cell_type": "markdown",
   "metadata": {},
   "source": [
    "### 1.2 - Relation between year, rank and team (3 features)\n",
    "\n",
    "There are few teams that seem to have relatively consistent results over the years, which shows that perhaps the results obtained in the previous year's series do not have much relevance to the result of the current year.\n",
    "\n",
    "For example, while teams like SAC and IND seem to have results that evolve relatively smoothly over the years, teams like DET and WAS are much more irregular."
   ]
  },
  {
   "cell_type": "code",
   "execution_count": null,
   "metadata": {},
   "outputs": [],
   "source": [
    "def teams_relation_year_rank_team(data):\n",
    "    \n",
    "    data = data[['year','franchID','rank']]\n",
    "    data = data.sort_values(by=['franchID','year'])\n",
    "    \n",
    "    teams = data['franchID'].unique()\n",
    "    num_teams = len(teams)\n",
    "    num_cols = 6\n",
    "    num_rows = (num_teams + num_cols - 1) // num_cols\n",
    "    fig, axes = plt.subplots(num_rows, num_cols, figsize=(16, 2 * num_rows ), squeeze=False)\n",
    "\n",
    "    for idx, team in enumerate(teams):\n",
    "        \n",
    "        data_team = data[data['franchID'] == team]        \n",
    "        ax = axes[idx // num_cols, idx % num_cols]\n",
    "        sns.lineplot(x='year', y='rank', data=data_team, color='b', marker='o', linewidth=2, ax=ax)\n",
    "        ax.set_title(f'{team}\\'s Rank Over the Years')\n",
    "        ax.set_xlabel('Year')\n",
    "        ax.set_ylabel('Rank')        \n",
    "        ax.invert_yaxis()        \n",
    "        ax.xaxis.set_major_locator(plt.MaxNLocator(integer=True))\n",
    "        ax.set_ylim(1,8)\n",
    "        ax.set_xlim(1,10)\n",
    "\n",
    "    for j in range(idx + 1, num_rows * num_cols):\n",
    "        fig.delaxes(axes[ j // num_cols, j % num_cols])\n",
    "    \n",
    "    plt.tight_layout()\n",
    "    plt.show()\n",
    "\n",
    "teams_relation_year_rank_team(teams.copy())\n"
   ]
  },
  {
   "cell_type": "markdown",
   "metadata": {},
   "source": [
    "### 1.3 - Relation between year, playoff and team (3 features)\n",
    "\n",
    "Most teams show a certain consistency in qualifying for the playoffs, with rare exceptions.\n",
    "\n",
    "The most inconsistent teams are the NYL and WAS, as they are the ones with the greatest differences from year to year, i.e., the most peaks in the graph. The other teams show one or two peaks, thus revealing consistency from year to year."
   ]
  },
  {
   "cell_type": "code",
   "execution_count": null,
   "metadata": {},
   "outputs": [],
   "source": [
    "def teams_relation_year_playoff_team( data ):\n",
    "\n",
    "    data['playoff_numeric'] = data['playoff'].map({'Y': 1, 'N': 0})\n",
    "    data = data[['year','franchID','playoff_numeric']]\n",
    "    data = data.sort_values(by=['franchID','year'])\n",
    "\n",
    "    teams = data['franchID'].unique()\n",
    "    num_teams = len(teams)\n",
    "    num_cols = 6\n",
    "    num_rows = (num_teams + num_cols - 1) // num_cols\n",
    "    fig, axes = plt.subplots(num_rows, num_cols, figsize=(16, 2 * num_rows), squeeze=False)\n",
    "\n",
    "    for idx, team in enumerate(teams):\n",
    "\n",
    "        data_team = data[data[ 'franchID' ] == team]\n",
    "        ax = axes[idx // num_cols, idx % num_cols]\n",
    "        sns.lineplot(x='year', y='playoff_numeric', data=data_team, color='b', marker='o', linewidth=2, ax=ax )\n",
    "        ax.set_title(f'{team}\\'s Playoff Over the Years')\n",
    "        ax.set_xlabel('Year')\n",
    "        ax.set_ylabel('Playoff')\n",
    "        ax.xaxis.set_major_locator(plt.MaxNLocator(integer=True))\n",
    "        ax.set_ylim(-0.2,1.2)\n",
    "        ax.set_yticks([0,1])\n",
    "        ax.set_xlim(1,10)\n",
    "\n",
    "    for j in range(idx + 1, num_rows * num_cols):\n",
    "        fig.delaxes(axes[j // num_cols, j % num_cols])\n",
    "\n",
    "    plt.tight_layout()\n",
    "    plt.show()\n",
    "\n",
    "teams_relation_year_playoff_team(teams.copy())"
   ]
  },
  {
   "cell_type": "markdown",
   "metadata": {},
   "source": [
    "### 1.4 - Relation between median of attend, median of rank and team (3 features)\n",
    "\n",
    "There doesn't seem to be much of a relationship between the ranking and the team's assist numbers. Neither the teams with the highest reaking have higher assist numbers, nor the teams with the lowest have lower assist levels,"
   ]
  },
  {
   "cell_type": "code",
   "execution_count": null,
   "metadata": {},
   "outputs": [],
   "source": [
    "def teams_relation_attend_rank_team(data):\n",
    "\n",
    "    data = data.groupby('franchID')[['attend','rank']].mean()\n",
    "    data = data.reset_index()\n",
    "    data = data.sort_values( by='attend', ascending=False)\n",
    "    plt.figure(figsize=(8,4))\n",
    "    sns.barplot(x='franchID', y='attend', data=data)\n",
    "    plt.title('Average Attendance by Team with Average Ranking')\n",
    "    plt.xlabel('Team')\n",
    "    plt.ylabel('Average Attendance')\n",
    "    plt.xticks(rotation=90)\n",
    "    ax2 = plt.gca().twinx()\n",
    "    ax2.scatter(x=data['franchID'], y=data['rank'] * 100, color='black', label='Average Ranking', marker='o')    \n",
    "    ax2.set_ylabel('Average Ranking', color='black')\n",
    "    ax2.set_ylim(0,800)\n",
    "    ax2.tick_params(axis='y', labelcolor='black')\n",
    "\n",
    "    plt.legend(loc='upper left')\n",
    "    plt.tight_layout()\n",
    "    plt.show()\n",
    "\n",
    "teams_relation_attend_rank_team(teams.copy())\n"
   ]
  },
  {
   "cell_type": "markdown",
   "metadata": {},
   "source": [
    "### 1.5 - Relation between games won, games lost, and team (3 features)\n",
    "\n",
    "Using graphs such as scatter boxes, we can observe the variation in the number of games won and lost by each team in different years.\n",
    "\n",
    "You can see that there are some that are quite consistent. However, one of the teams with the greatest variation is LAS, which, from the previous graphs, we saw in year 8, unlike all other years, was not selected to go to the playoffs"
   ]
  },
  {
   "cell_type": "code",
   "execution_count": null,
   "metadata": {},
   "outputs": [],
   "source": [
    "def teams_relation_won_lost_team(data):\n",
    "\n",
    "    data_agg = data.groupby('franchID').agg(won=('won','mean'), lost=('lost','mean'), playoff_proportion=('playoff', lambda x: (x == 'Y').sum() / len(x))).reset_index()\n",
    "    data_agg = data_agg.sort_values(by='playoff_proportion', ascending=False)\n",
    "    data_games = data.melt(id_vars='franchID', value_vars=['won','lost'], var_name='Result', value_name='Games')\n",
    "\n",
    "    plt.figure(figsize=(12,5))    \n",
    "    sns.boxplot(x='franchID', y='Games', hue='Result', data=data_games, dodge=True)\n",
    "    plt.xlabel(\"Team's ID\")\n",
    "    plt.ylabel(\"Games Won/Lost\")\n",
    "    plt.title(\"Distribution of Games Won and Lost by Team\")\n",
    "    plt.legend(loc='upper left', title='Games')\n",
    "    plt.xticks(rotation=90)\n",
    "    plt.tight_layout()\n",
    "    plt.show()\n",
    "\n",
    "teams_relation_won_lost_team(teams.copy())\n"
   ]
  },
  {
   "cell_type": "markdown",
   "metadata": {},
   "source": [
    "### 1.6 - Correlation between features and playoffs\n",
    "\n",
    "The features are not very correlated with the playoff attribute, with some having almost no correlation and therefore probably not being very relevant to our predictive algorithm."
   ]
  },
  {
   "cell_type": "code",
   "execution_count": null,
   "metadata": {},
   "outputs": [],
   "source": [
    "def teams_heatmap_playoff(data,limit_down,limit_up):\n",
    "      \n",
    "    le = LabelEncoder()\n",
    "    for col in data.select_dtypes(include=['object']):\n",
    "        data[col] = le.fit_transform(data[col])\n",
    "\n",
    "    correlation = data.corr()['playoff'].drop('playoff')\n",
    "    correlation_filtered = correlation[(correlation >= limit_down) & (correlation <= limit_up)].sort_values()\n",
    "    heatmap = correlation_filtered.to_frame().T\n",
    "\n",
    "    if heatmap.empty:\n",
    "        print(\"No attributes found with correlation in the specified range.\")\n",
    "        return\n",
    "\n",
    "    plt.figure(figsize=(16,4))\n",
    "    sns.heatmap(heatmap, annot=True, fmt=\".2f\", cmap='coolwarm', cbar_kws={ \"shrink\": .8, \"ticks\": np.arange(-1, 1.1, 0.1)}, center = 0, vmin = -1 , vmax = 1)\n",
    "    plt.title( f'Correlation between {limit_down} and {limit_up}', fontsize=16)    \n",
    "    plt.yticks(rotation=0)\n",
    "    plt.show()"
   ]
  },
  {
   "cell_type": "code",
   "execution_count": null,
   "metadata": {},
   "outputs": [],
   "source": [
    "teams_heatmap_playoff(teams.copy(), -0.1, 0.1)"
   ]
  },
  {
   "cell_type": "code",
   "execution_count": null,
   "metadata": {},
   "outputs": [],
   "source": [
    "teams_heatmap_playoff(teams.copy(), -1, -0.8)"
   ]
  },
  {
   "cell_type": "code",
   "execution_count": null,
   "metadata": {},
   "outputs": [],
   "source": [
    "teams_heatmap_playoff(teams.copy(), 0.8, 1)"
   ]
  },
  {
   "cell_type": "markdown",
   "metadata": {},
   "source": [
    "## 2 - Analysing teams_post.csv"
   ]
  },
  {
   "cell_type": "markdown",
   "metadata": {},
   "source": [
    "### 2.1 - Relation between median of games lost and won, and the team (3 features)\n",
    "\n",
    "The relationship between the percentage of times a team was selected for the playoffs is not related to its performance in that same phase.\n",
    "\n",
    "One of the most notorious examples is that of PHO, which despite having a low percentage of passage to the playoffs, when it participated it achieved good results, having the best average number of games won. On the other hand, teams like LAS, CON and SAC, which have the highest passing percentages, are not even close to the teams with the best winning average."
   ]
  },
  {
   "cell_type": "code",
   "execution_count": null,
   "metadata": {},
   "outputs": [],
   "source": [
    "def teams_post_relation_lost_won_teams(data):\n",
    "\n",
    "    data = data.groupby('tmID')[ ['W','L'] ].mean()\n",
    "    data = data.reset_index()\n",
    "    data = data.melt( id_vars='tmID', value_vars=['W','L'], var_name='Result', value_name='Average')\n",
    "\n",
    "    data_playoff = teams.groupby('tmID')['playoff'].value_counts(normalize=True).unstack().fillna(0)\n",
    "    data_playoff = data_playoff['Y'].reset_index()\n",
    "    data_playoff.columns = ['tmID','Playoff_Proportion']\n",
    "\n",
    "    data = pd.merge(data, data_playoff, on='tmID', how ='left')\n",
    "    data = data.sort_values(by=\"Playoff_Proportion\", ascending=False)\n",
    "\n",
    "    plt.figure(figsize=(16,6))\n",
    "    sns.barplot(x='tmID', y='Average', hue='Result', data=data)\n",
    "\n",
    "    for index, row in data.iterrows():\n",
    "        plt.scatter(row['tmID'], row['Playoff_Proportion'] * (data['Average'].max()), color='black', label='Playoff Proportion' if index == 0 else \"\")\n",
    "    \n",
    "    plt.title('Average Wins and Losses per Team with Playoff Proportion')\n",
    "    plt.xlabel('Team ID')\n",
    "    plt.ylabel('Average')\n",
    "    plt.legend(title='Result', loc='upper right')\n",
    "    plt.xticks(rotation=0)\n",
    "    plt.ylim(0, data['Average'].max() * 1.2)\n",
    "    plt.show()\n",
    "\n",
    "teams_post_relation_lost_won_teams(teams_post.copy())"
   ]
  },
  {
   "cell_type": "markdown",
   "metadata": {},
   "source": [
    "## 3 - Analysing series_post.csv"
   ]
  },
  {
   "cell_type": "markdown",
   "metadata": {},
   "source": [
    "### 3.1 - Relation between winners and teams (2 features)"
   ]
  },
  {
   "cell_type": "code",
   "execution_count": null,
   "metadata": {},
   "outputs": [],
   "source": [
    "def series_post_relation_winner_team(data):\n",
    "\n",
    "    plt.figure(figsize=(16,5))\n",
    "\n",
    "    winner_counts = data['tmIDWinner'].value_counts().dropna().sort_values(ascending=False)\n",
    "    plt.subplot(1,3,1)\n",
    "    plt.pie(winner_counts, labels=winner_counts.index, autopct='%1.1f%%', startangle=140)\n",
    "    plt.title('Frequency of Wins per Team')\n",
    "    \n",
    "    loser_counts = data['tmIDLoser'].value_counts().dropna().sort_values(ascending=False)\n",
    "    plt.subplot(1,3,2)\n",
    "    plt.pie(loser_counts, labels=loser_counts.index, autopct='%1.1f%%', startangle=140)\n",
    "    plt.title('Frequency of Losses per Team')\n",
    "\n",
    "    winner_g_counts = data[data['series'] == 'G']['tmIDWinner'].value_counts().dropna().sort_values(ascending=False)\n",
    "    plt.subplot(1,3,3)\n",
    "    plt.pie(winner_g_counts, labels=winner_g_counts.index, autopct='%1.1f%%', startangle=140)\n",
    "    plt.title('Frequency of Final Wins per Team')\n",
    "\n",
    "    plt.tight_layout()\n",
    "    plt.show()\n",
    "\n",
    "series_post_relation_winner_team(series_post.copy())"
   ]
  },
  {
   "cell_type": "code",
   "execution_count": null,
   "metadata": {},
   "outputs": [],
   "source": [
    "def series_post_relation_winner_median_team(data):\n",
    "    \n",
    "    plt.figure(figsize=(16,5))\n",
    "    \n",
    "    winner_appearances = data['tmIDWinner'].value_counts()\n",
    "    loser_appearances = data['tmIDLoser'].value_counts()\n",
    "    total_appearances = winner_appearances.add(loser_appearances, fill_value=0)\n",
    "    \n",
    "    final_winner_appearances = data[data['series'] == 'G']['tmIDWinner'].value_counts()\n",
    "    final_loser_appearances = data[data['series'] == 'G']['tmIDLoser'].value_counts()\n",
    "    final_total_appearances = final_winner_appearances.add( final_loser_appearances, fill_value=0)\n",
    "\n",
    "    winner_counts = (winner_appearances / total_appearances).fillna(0).dropna().sort_values(ascending=False)\n",
    "    winner_counts = winner_counts[winner_counts > 0]\n",
    "    plt.subplot(1,3,1)\n",
    "    plt.pie(winner_counts, labels=winner_counts.index, autopct='%1.1f%%', startangle=140)\n",
    "    plt.title('Proporcion of Wins per Team')\n",
    "\n",
    "    loser_counts = (loser_appearances / total_appearances).fillna(0).dropna().sort_values(ascending=False)\n",
    "    loser_counts = loser_counts[loser_counts > 0]\n",
    "    plt.subplot(1,3,2)\n",
    "    plt.pie(loser_counts, labels=loser_counts.index, autopct='%1.1f%%', startangle=140)\n",
    "    plt.title('Proporcion of Losses per Team')\n",
    "\n",
    "    winner_g_counts = (final_winner_appearances / final_total_appearances).fillna(0).dropna().sort_values(ascending=False)\n",
    "    winner_g_counts = winner_g_counts[winner_g_counts > 0]\n",
    "    plt.subplot(1,3,3)\n",
    "    plt.pie(winner_g_counts, labels=winner_g_counts.index, autopct='%1.1f%%', startangle=140)\n",
    "    plt.title('Proporcion of Final Wins per Team')\n",
    "\n",
    "    plt.tight_layout()\n",
    "    plt.show()\n",
    "\n",
    "series_post_relation_winner_median_team(series_post.copy())"
   ]
  },
  {
   "cell_type": "markdown",
   "metadata": {},
   "source": [
    "## 4 - Analysing coaches.csv "
   ]
  },
  {
   "cell_type": "markdown",
   "metadata": {},
   "source": [
    "## 5 - Analysing awards_players.csv"
   ]
  },
  {
   "cell_type": "markdown",
   "metadata": {},
   "source": [
    "## 6 - Analysing players_teams.csv"
   ]
  },
  {
   "cell_type": "markdown",
   "metadata": {},
   "source": [
    "## 7 - Analysing players.csv"
   ]
  }
 ],
 "metadata": {
  "kernelspec": {
   "display_name": "Python 3",
   "language": "python",
   "name": "python3"
  },
  "language_info": {
   "codemirror_mode": {
    "name": "ipython",
    "version": 3
   },
   "file_extension": ".py",
   "mimetype": "text/x-python",
   "name": "python",
   "nbconvert_exporter": "python",
   "pygments_lexer": "ipython3",
   "version": "3.12.6"
  }
 },
 "nbformat": 4,
 "nbformat_minor": 2
}
